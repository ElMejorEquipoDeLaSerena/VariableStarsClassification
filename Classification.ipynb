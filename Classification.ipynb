{
 "cells": [
  {
   "cell_type": "code",
   "execution_count": 1,
   "metadata": {
    "collapsed": false
   },
   "outputs": [],
   "source": [
    "import os\n",
    "import numpy as np\n",
    "import pandas\n",
    "import seaborn\n",
    "\n",
    "from astropy.coordinates import SkyCoord\n",
    "from astropy import units as u\n",
    "from scipy import stats\n",
    "\n",
    "from sklearn import svm, model_selection, metrics\n",
    "# from sklearn.naive_bayes import GaussianNB\n",
    "\n",
    "import matplotlib.pyplot as plt\n",
    "%matplotlib inline\n",
    "\n",
    "from pocs.utils.jupyter import widgets"
   ]
  },
  {
   "cell_type": "markdown",
   "metadata": {},
   "source": [
    "# Classification\n",
    "\n",
    "Classification is about creating a way to classify or label unknown data based off of existing labeled data. The idea is that you should be able to classify a certain amount of your data (either via the hard work of dedicated graduates students or through naive and willing members of the public, e.g. Galaxy Zoo)\n",
    "\n",
    "## The Process:\n",
    "\n",
    "1. Get some data\n",
    "2. Pick your features!\n",
    "3. Separate the data\n",
    "4. Find a kernel (for your SVM, of course!)\n",
    "5. Classify! For fun and profit!\n",
    "6. Analyze (Did it work?)"
   ]
  },
  {
   "cell_type": "markdown",
   "metadata": {},
   "source": [
    "### 1. Get Data\n",
    "\n",
    "Ideally you would have some labelled and unlabelled data. Here we want to test classifiers so we grab a whole bunch of labelled data and then just pretend we don't know the labels for some of them.\n",
    "\n",
    "The data we are working with are variable stars. There are many types of variable stars but we only try to classify between the periodic.\n",
    "\n",
    "Data is obatained from the Catalina Sky Survey (http://catalinadata.org)."
   ]
  },
  {
   "cell_type": "code",
   "execution_count": 2,
   "metadata": {
    "collapsed": true
   },
   "outputs": [],
   "source": [
    "# Load our matched data from the catalog\n",
    "cat_data = 'catalog_data_final/matched_data.csv'"
   ]
  },
  {
   "cell_type": "code",
   "execution_count": 3,
   "metadata": {
    "collapsed": false
   },
   "outputs": [
    {
     "name": "stdout",
     "output_type": "stream",
     "text": [
      "1436659 catalog_data_final/matched_data.csv\r\n"
     ]
    }
   ],
   "source": [
    "# Number of rows\n",
    "!wc -l $cat_data"
   ]
  },
  {
   "cell_type": "code",
   "execution_count": 4,
   "metadata": {
    "collapsed": false
   },
   "outputs": [],
   "source": [
    "catalog = pandas.read_csv(cat_data, index_col=0, usecols=[1,2,3,7,10,11,12,13,14,15,16,17])\n",
    "\n",
    "# Filter and scrub\n",
    "catalog = catalog[catalog['Blend'] == 0]\n",
    "catalog.rename(columns={\n",
    "        'V_(mag)': 'V_mag', \n",
    "        'Period_(days)': 'Period', \n",
    "        'Var_Type': 'Class', \n",
    "        'RA_(J2000)': 'RA',\n",
    "}, inplace=True)"
   ]
  },
  {
   "cell_type": "code",
   "execution_count": 5,
   "metadata": {
    "collapsed": false
   },
   "outputs": [
    {
     "data": {
      "text/html": [
       "<div>\n",
       "<table border=\"1\" class=\"dataframe\">\n",
       "  <thead>\n",
       "    <tr style=\"text-align: right;\">\n",
       "      <th></th>\n",
       "      <th>Mag</th>\n",
       "      <th>Magerr</th>\n",
       "      <th>Blend</th>\n",
       "      <th>RA</th>\n",
       "      <th>Dec</th>\n",
       "      <th>V_mag</th>\n",
       "      <th>Period</th>\n",
       "      <th>Amplitude</th>\n",
       "      <th>Number_Obs</th>\n",
       "      <th>Class</th>\n",
       "      <th>epoch folding</th>\n",
       "    </tr>\n",
       "    <tr>\n",
       "      <th>ID</th>\n",
       "      <th></th>\n",
       "      <th></th>\n",
       "      <th></th>\n",
       "      <th></th>\n",
       "      <th></th>\n",
       "      <th></th>\n",
       "      <th></th>\n",
       "      <th></th>\n",
       "      <th></th>\n",
       "      <th></th>\n",
       "      <th></th>\n",
       "    </tr>\n",
       "  </thead>\n",
       "  <tbody>\n",
       "    <tr>\n",
       "      <th>1109019013189</th>\n",
       "      <td>12.24</td>\n",
       "      <td>0.05</td>\n",
       "      <td>0</td>\n",
       "      <td>03:29:14.70</td>\n",
       "      <td>+09:11:20.2</td>\n",
       "      <td>12.58</td>\n",
       "      <td>0.446914</td>\n",
       "      <td>0.31</td>\n",
       "      <td>192</td>\n",
       "      <td>1</td>\n",
       "      <td>0.432202</td>\n",
       "    </tr>\n",
       "    <tr>\n",
       "      <th>1109019013189</th>\n",
       "      <td>12.28</td>\n",
       "      <td>0.05</td>\n",
       "      <td>0</td>\n",
       "      <td>03:29:14.70</td>\n",
       "      <td>+09:11:20.2</td>\n",
       "      <td>12.58</td>\n",
       "      <td>0.446914</td>\n",
       "      <td>0.31</td>\n",
       "      <td>192</td>\n",
       "      <td>1</td>\n",
       "      <td>0.067618</td>\n",
       "    </tr>\n",
       "    <tr>\n",
       "      <th>1109019013189</th>\n",
       "      <td>12.26</td>\n",
       "      <td>0.05</td>\n",
       "      <td>0</td>\n",
       "      <td>03:29:14.70</td>\n",
       "      <td>+09:11:20.2</td>\n",
       "      <td>12.58</td>\n",
       "      <td>0.446914</td>\n",
       "      <td>0.31</td>\n",
       "      <td>192</td>\n",
       "      <td>1</td>\n",
       "      <td>0.078448</td>\n",
       "    </tr>\n",
       "    <tr>\n",
       "      <th>1109019013189</th>\n",
       "      <td>12.25</td>\n",
       "      <td>0.05</td>\n",
       "      <td>0</td>\n",
       "      <td>03:29:14.70</td>\n",
       "      <td>+09:11:20.2</td>\n",
       "      <td>12.58</td>\n",
       "      <td>0.446914</td>\n",
       "      <td>0.31</td>\n",
       "      <td>192</td>\n",
       "      <td>1</td>\n",
       "      <td>0.089300</td>\n",
       "    </tr>\n",
       "    <tr>\n",
       "      <th>1109019013189</th>\n",
       "      <td>12.30</td>\n",
       "      <td>0.05</td>\n",
       "      <td>0</td>\n",
       "      <td>03:29:14.70</td>\n",
       "      <td>+09:11:20.2</td>\n",
       "      <td>12.58</td>\n",
       "      <td>0.446914</td>\n",
       "      <td>0.31</td>\n",
       "      <td>192</td>\n",
       "      <td>1</td>\n",
       "      <td>0.100153</td>\n",
       "    </tr>\n",
       "  </tbody>\n",
       "</table>\n",
       "</div>"
      ],
      "text/plain": [
       "                 Mag  Magerr  Blend           RA          Dec  V_mag  \\\n",
       "ID                                                                     \n",
       "1109019013189  12.24    0.05      0  03:29:14.70  +09:11:20.2  12.58   \n",
       "1109019013189  12.28    0.05      0  03:29:14.70  +09:11:20.2  12.58   \n",
       "1109019013189  12.26    0.05      0  03:29:14.70  +09:11:20.2  12.58   \n",
       "1109019013189  12.25    0.05      0  03:29:14.70  +09:11:20.2  12.58   \n",
       "1109019013189  12.30    0.05      0  03:29:14.70  +09:11:20.2  12.58   \n",
       "\n",
       "                 Period  Amplitude  Number_Obs  Class  epoch folding  \n",
       "ID                                                                    \n",
       "1109019013189  0.446914       0.31         192      1       0.432202  \n",
       "1109019013189  0.446914       0.31         192      1       0.067618  \n",
       "1109019013189  0.446914       0.31         192      1       0.078448  \n",
       "1109019013189  0.446914       0.31         192      1       0.089300  \n",
       "1109019013189  0.446914       0.31         192      1       0.100153  "
      ]
     },
     "execution_count": 5,
     "metadata": {},
     "output_type": "execute_result"
    }
   ],
   "source": [
    "catalog.head()"
   ]
  },
  {
   "cell_type": "markdown",
   "metadata": {},
   "source": [
    "### 2. Pick Features\n",
    "\n",
    "Feature selection is an important part of classification. Unfortunately there is no systematic way to select these features. To some extent this is where the science can come in. In my case I just guess. Really we just use what is available in the data.  Our features will be:\n",
    "\n",
    "* Magnitude (median)\n",
    "* Period\n",
    "* Amplitude\n",
    "* Skew\n",
    "* IQR (interquantile range)"
   ]
  },
  {
   "cell_type": "code",
   "execution_count": 6,
   "metadata": {
    "collapsed": false
   },
   "outputs": [],
   "source": [
    "def setup_features():\n",
    "    data = {\n",
    "        'class': [],\n",
    "        'predicted': [],\n",
    "        'ra': [],\n",
    "        'dec': [],\n",
    "        'period': [],\n",
    "        'mag': [],\n",
    "        'mag_median': [],\n",
    "        'amplitude': [],\n",
    "        'skew': [],\n",
    "        'iqr': [],\n",
    "    }\n",
    "    unique_id = catalog.index.unique()\n",
    "    for uid in widgets.log_progress(unique_id):\n",
    "            rows = catalog.loc[uid]\n",
    "\n",
    "            data['class'].append(rows['Class'].iloc[0])\n",
    "            data['predicted'].append(0)\n",
    "\n",
    "            ra = rows['RA'].iloc[0]\n",
    "            dec = rows['Dec'].iloc[0]\n",
    "            coord = SkyCoord(ra=ra, dec=dec, unit=(u.hourangle, u.deg))\n",
    "            data['ra'].append(coord.ra.value)\n",
    "            data['dec'].append(coord.dec.value)\n",
    "\n",
    "            data['period'].append(rows['Period'].iloc[0])\n",
    "            data['mag'].append(rows['Mag'].iloc[0])\n",
    "            data['mag_median'].append(np.median(rows['Mag']))\n",
    "            data['amplitude'].append(rows['Amplitude'].iloc[0])\n",
    "            data['skew'].append(stats.skew(rows['Mag']))\n",
    "            data['iqr'].append(np.percentile(rows['Mag'], 75) - np.percentile(rows['Mag'], 25))\n",
    "\n",
    "    features = pandas.DataFrame(data, index=unique_id)\n",
    "    features.index.name = 'ID'\n",
    "    \n",
    "    # Write to CSV to save time\n",
    "    features.to_csv('features.csv')\n",
    "    \n",
    "    return features"
   ]
  },
  {
   "cell_type": "code",
   "execution_count": 7,
   "metadata": {
    "collapsed": true
   },
   "outputs": [],
   "source": [
    "# Get our features from the file or build them\n",
    "if not os.path.exists('features.csv'):\n",
    "    features = setup_features()\n",
    "else:\n",
    "    features = pandas.read_csv('features.csv', index_col=0)"
   ]
  },
  {
   "cell_type": "code",
   "execution_count": 8,
   "metadata": {
    "collapsed": false
   },
   "outputs": [],
   "source": [
    "features_copy = features.copy()\n",
    "# Remove meta information\n",
    "try:\n",
    "    del features['dec']\n",
    "#     del features['predicted']\n",
    "    del features['ra']\n",
    "    del features['mag']\n",
    "except:\n",
    "    pass"
   ]
  },
  {
   "cell_type": "code",
   "execution_count": 9,
   "metadata": {
    "collapsed": false
   },
   "outputs": [
    {
     "data": {
      "text/html": [
       "<div>\n",
       "<table border=\"1\" class=\"dataframe\">\n",
       "  <thead>\n",
       "    <tr style=\"text-align: right;\">\n",
       "      <th></th>\n",
       "      <th>amplitude</th>\n",
       "      <th>class</th>\n",
       "      <th>iqr</th>\n",
       "      <th>mag_median</th>\n",
       "      <th>period</th>\n",
       "      <th>predicted</th>\n",
       "      <th>skew</th>\n",
       "    </tr>\n",
       "    <tr>\n",
       "      <th>ID</th>\n",
       "      <th></th>\n",
       "      <th></th>\n",
       "      <th></th>\n",
       "      <th></th>\n",
       "      <th></th>\n",
       "      <th></th>\n",
       "      <th></th>\n",
       "    </tr>\n",
       "  </thead>\n",
       "  <tbody>\n",
       "    <tr>\n",
       "      <th>1109019013189</th>\n",
       "      <td>0.31</td>\n",
       "      <td>1</td>\n",
       "      <td>0.24</td>\n",
       "      <td>12.370</td>\n",
       "      <td>0.446914</td>\n",
       "      <td>0</td>\n",
       "      <td>0.208991</td>\n",
       "    </tr>\n",
       "    <tr>\n",
       "      <th>1118018023786</th>\n",
       "      <td>0.48</td>\n",
       "      <td>1</td>\n",
       "      <td>0.23</td>\n",
       "      <td>14.470</td>\n",
       "      <td>0.270987</td>\n",
       "      <td>0</td>\n",
       "      <td>0.687586</td>\n",
       "    </tr>\n",
       "    <tr>\n",
       "      <th>1104019012100</th>\n",
       "      <td>0.75</td>\n",
       "      <td>1</td>\n",
       "      <td>0.27</td>\n",
       "      <td>16.820</td>\n",
       "      <td>0.301688</td>\n",
       "      <td>0</td>\n",
       "      <td>0.837339</td>\n",
       "    </tr>\n",
       "    <tr>\n",
       "      <th>1132016011828</th>\n",
       "      <td>0.25</td>\n",
       "      <td>1</td>\n",
       "      <td>0.17</td>\n",
       "      <td>15.500</td>\n",
       "      <td>0.427316</td>\n",
       "      <td>0</td>\n",
       "      <td>-0.077371</td>\n",
       "    </tr>\n",
       "    <tr>\n",
       "      <th>1129017071021</th>\n",
       "      <td>0.32</td>\n",
       "      <td>1</td>\n",
       "      <td>0.18</td>\n",
       "      <td>15.015</td>\n",
       "      <td>17.242100</td>\n",
       "      <td>0</td>\n",
       "      <td>0.618961</td>\n",
       "    </tr>\n",
       "  </tbody>\n",
       "</table>\n",
       "</div>"
      ],
      "text/plain": [
       "               amplitude  class   iqr  mag_median     period  predicted  \\\n",
       "ID                                                                        \n",
       "1109019013189       0.31      1  0.24      12.370   0.446914          0   \n",
       "1118018023786       0.48      1  0.23      14.470   0.270987          0   \n",
       "1104019012100       0.75      1  0.27      16.820   0.301688          0   \n",
       "1132016011828       0.25      1  0.17      15.500   0.427316          0   \n",
       "1129017071021       0.32      1  0.18      15.015  17.242100          0   \n",
       "\n",
       "                   skew  \n",
       "ID                       \n",
       "1109019013189  0.208991  \n",
       "1118018023786  0.687586  \n",
       "1104019012100  0.837339  \n",
       "1132016011828 -0.077371  \n",
       "1129017071021  0.618961  "
      ]
     },
     "execution_count": 9,
     "metadata": {},
     "output_type": "execute_result"
    }
   ],
   "source": [
    "features.head()"
   ]
  },
  {
   "cell_type": "markdown",
   "metadata": {},
   "source": [
    "### 3 Separate Data\n",
    "\n",
    "We need three groups of data: training, testing, and unknown. In our case the unknown is really known but we are just pretending. The training and testing data is the labelled and known data. Ideally you want to train on about 2/3 of the known data and then test the remaining 1/3 to make sure your classifier is working ok. However, exactly how much you want to train on can affect the results.\n",
    "\n",
    "#### 3.1 Separate Labelled and Unlabelled Data\n",
    "\n",
    "To start, we use a poor-man's version of the holdout method (e.g. hold some of them out) to split the initial set of data into labelled and unlablled. For simplicity we just use 75% of the data for training"
   ]
  },
  {
   "cell_type": "code",
   "execution_count": 10,
   "metadata": {
    "collapsed": false
   },
   "outputs": [],
   "source": [
    "# Start to build the table we will use\n",
    "\n",
    "# For Training data, we want to get a certain amount of our\n",
    "# table, we slice off a percentage\n",
    "row_start = 0\n",
    "row_end = len(features) - int(.25 * len(features))\n",
    "\n",
    "# Our collections of data to train and test\n",
    "labeled_svm = features.iloc[row_start:row_end]\n",
    "unlabeled_svm = features.iloc[row_end:]\n",
    "test_all = features.iloc[row_end:]\n",
    "\n",
    "# The correct classes corresponding to the training and test\n",
    "classes = labeled_svm['class']\n",
    "unlabeled_classes = unlabeled_svm['class']\n",
    "\n",
    "# Remove the labels\n",
    "del labeled_svm['class']\n",
    "del unlabeled_svm['class']"
   ]
  },
  {
   "cell_type": "code",
   "execution_count": 11,
   "metadata": {
    "collapsed": false
   },
   "outputs": [
    {
     "data": {
      "text/html": [
       "<div>\n",
       "<table border=\"1\" class=\"dataframe\">\n",
       "  <thead>\n",
       "    <tr style=\"text-align: right;\">\n",
       "      <th></th>\n",
       "      <th>amplitude</th>\n",
       "      <th>iqr</th>\n",
       "      <th>mag_median</th>\n",
       "      <th>period</th>\n",
       "      <th>predicted</th>\n",
       "      <th>skew</th>\n",
       "    </tr>\n",
       "    <tr>\n",
       "      <th>ID</th>\n",
       "      <th></th>\n",
       "      <th></th>\n",
       "      <th></th>\n",
       "      <th></th>\n",
       "      <th></th>\n",
       "      <th></th>\n",
       "    </tr>\n",
       "  </thead>\n",
       "  <tbody>\n",
       "    <tr>\n",
       "      <th>1109019013189</th>\n",
       "      <td>0.31</td>\n",
       "      <td>0.24</td>\n",
       "      <td>12.370</td>\n",
       "      <td>0.446914</td>\n",
       "      <td>0</td>\n",
       "      <td>0.208991</td>\n",
       "    </tr>\n",
       "    <tr>\n",
       "      <th>1118018023786</th>\n",
       "      <td>0.48</td>\n",
       "      <td>0.23</td>\n",
       "      <td>14.470</td>\n",
       "      <td>0.270987</td>\n",
       "      <td>0</td>\n",
       "      <td>0.687586</td>\n",
       "    </tr>\n",
       "    <tr>\n",
       "      <th>1104019012100</th>\n",
       "      <td>0.75</td>\n",
       "      <td>0.27</td>\n",
       "      <td>16.820</td>\n",
       "      <td>0.301688</td>\n",
       "      <td>0</td>\n",
       "      <td>0.837339</td>\n",
       "    </tr>\n",
       "    <tr>\n",
       "      <th>1132016011828</th>\n",
       "      <td>0.25</td>\n",
       "      <td>0.17</td>\n",
       "      <td>15.500</td>\n",
       "      <td>0.427316</td>\n",
       "      <td>0</td>\n",
       "      <td>-0.077371</td>\n",
       "    </tr>\n",
       "    <tr>\n",
       "      <th>1129017071021</th>\n",
       "      <td>0.32</td>\n",
       "      <td>0.18</td>\n",
       "      <td>15.015</td>\n",
       "      <td>17.242100</td>\n",
       "      <td>0</td>\n",
       "      <td>0.618961</td>\n",
       "    </tr>\n",
       "  </tbody>\n",
       "</table>\n",
       "</div>"
      ],
      "text/plain": [
       "               amplitude   iqr  mag_median     period  predicted      skew\n",
       "ID                                                                        \n",
       "1109019013189       0.31  0.24      12.370   0.446914          0  0.208991\n",
       "1118018023786       0.48  0.23      14.470   0.270987          0  0.687586\n",
       "1104019012100       0.75  0.27      16.820   0.301688          0  0.837339\n",
       "1132016011828       0.25  0.17      15.500   0.427316          0 -0.077371\n",
       "1129017071021       0.32  0.18      15.015  17.242100          0  0.618961"
      ]
     },
     "execution_count": 11,
     "metadata": {},
     "output_type": "execute_result"
    }
   ],
   "source": [
    "labeled_svm.head()"
   ]
  },
  {
   "cell_type": "code",
   "execution_count": 12,
   "metadata": {
    "collapsed": false
   },
   "outputs": [
    {
     "name": "stdout",
     "output_type": "stream",
     "text": [
      "Type\t\t\tType\t\tNumber\n",
      "---------------------------------------------\n",
      "Labeled Class size:\t EW             2938\n",
      "Unlabeled Class size:\t EW             986\n",
      "\n",
      "Labeled Class size:\t EA             411\n",
      "Unlabeled Class size:\t EA             124\n",
      "\n",
      "Labeled Class size:\t beta Lyrae     26\n",
      "Unlabeled Class size:\t beta Lyrae     15\n",
      "\n",
      "---------------------------------------------\n",
      "Labeled Total: \t\t\t\t3375\n",
      "Unlabeled Total: \t\t\t1125\n"
     ]
    }
   ],
   "source": [
    "types = { 1: 'EW', 2: 'EA', 3: 'beta Lyrae'}\n",
    "\n",
    "# How many of each Variable Type do we have\n",
    "print(\"Type\\t\\t\\tType\\t\\tNumber\".format())\n",
    "print(\"{}\".format('-'*45))\n",
    "for x in range(1,4):\n",
    "    print(\"Labeled Class size:\\t {:14s} {}\".format(types[x],len(classes[classes == x])))\n",
    "    print(\"Unlabeled Class size:\\t {:14s} {}\\n\".format(types[x],len(unlabeled_classes[unlabeled_classes == x])))\n",
    "    \n",
    "print(\"{}\".format('-'*45))    \n",
    "print('Labeled Total: \\t\\t\\t\\t{}'.format(len(labeled_svm)))\n",
    "print('Unlabeled Total: \\t\\t\\t{}'.format(len(unlabeled_svm)))"
   ]
  },
  {
   "cell_type": "markdown",
   "metadata": {},
   "source": [
    "### 3.2 Determine Training Size\n",
    "\n",
    "Now that we have some labelled data we need to split that data into training data and test data. While 2/3 to 1/3 for training to test is a good initial estimate, we can do some work to determine the best size by trying different classifiers"
   ]
  },
  {
   "cell_type": "markdown",
   "metadata": {},
   "source": [
    "First we create a simple linear classifier and fit the labelled data to the known classes"
   ]
  },
  {
   "cell_type": "code",
   "execution_count": 13,
   "metadata": {
    "collapsed": false
   },
   "outputs": [
    {
     "data": {
      "text/plain": [
       "LinearSVC(C=1.0, class_weight=None, dual=True, fit_intercept=True,\n",
       "     intercept_scaling=1, loss='squared_hinge', max_iter=1000,\n",
       "     multi_class='ovr', penalty='l2', random_state=None, tol=0.0001,\n",
       "     verbose=0)"
      ]
     },
     "execution_count": 13,
     "metadata": {},
     "output_type": "execute_result"
    }
   ],
   "source": [
    "# Create our (linear) classifier\n",
    "clf = svm.LinearSVC()\n",
    "clf.fit(labeled_svm, classes)"
   ]
  },
  {
   "cell_type": "markdown",
   "metadata": {},
   "source": [
    "First use a simple `train_test_split` with a `test_size` of 1/3. This will give us some testing and training data (both dependent and independent sets)"
   ]
  },
  {
   "cell_type": "code",
   "execution_count": 14,
   "metadata": {
    "collapsed": false
   },
   "outputs": [
    {
     "name": "stdout",
     "output_type": "stream",
     "text": [
      "training set = (2250, 6) (2250,)\n",
      "test size = (1125, 6) (1125,)\n",
      "N_match = 1032\n",
      "Accuracy = 0.9173333333333333\n"
     ]
    }
   ],
   "source": [
    "# Do an auto split\n",
    "X_train, X_test, y_train, y_test = model_selection.train_test_split (labeled_svm, classes, test_size=1./3.)\n",
    "\n",
    "print(\"training set = {} {}\".format(X_train.shape, y_train.shape))\n",
    "print(\"test size = {} {}\".format(X_test.shape, y_test.shape))\n",
    "\n",
    "# Fit to our training data to the linear classifier\n",
    "clf.fit(X_train, y_train)\n",
    "\n",
    "# Get prediction for test data\n",
    "pred_class = clf.predict(X_test)\n",
    "\n",
    "# Determine matches\n",
    "N_match = (pred_class == y_test).sum()\n",
    "print(\"N_match = {}\".format(N_match))\n",
    "\n",
    "# Accuracy\n",
    "acc = 1. * N_match / len(pred_class)\n",
    "print(\"Accuracy = {}\".format(acc))"
   ]
  },
  {
   "cell_type": "markdown",
   "metadata": {},
   "source": [
    "We can also use a slightly more fancy version for (sometimes) better results:"
   ]
  },
  {
   "cell_type": "code",
   "execution_count": 15,
   "metadata": {
    "collapsed": false
   },
   "outputs": [
    {
     "name": "stdout",
     "output_type": "stream",
     "text": [
      "Accuracy = 0.9224888888888888 +- 0.0043510180446294806\n"
     ]
    }
   ],
   "source": [
    "ss = model_selection.StratifiedShuffleSplit(test_size = 1./3.)\n",
    "scores = model_selection.cross_val_score(clf, labeled_svm, classes, cv=ss)\n",
    "print(\"Accuracy = {} +- {}\".format(scores.mean(),scores.std()))"
   ]
  },
  {
   "cell_type": "markdown",
   "metadata": {},
   "source": [
    "You and your friends can test out all of the available splitter classes here: http://scikit-learn.org/stable/modules/classes.html#splitter-classes"
   ]
  },
  {
   "cell_type": "markdown",
   "metadata": {},
   "source": [
    "We can also test a whole bunch of training sizes and plot them"
   ]
  },
  {
   "cell_type": "code",
   "execution_count": 16,
   "metadata": {
    "collapsed": false
   },
   "outputs": [
    {
     "data": {
      "text/plain": [
       "<matplotlib.figure.Figure at 0x7f35449fc828>"
      ]
     },
     "metadata": {},
     "output_type": "display_data"
    },
    {
     "data": {
      "image/png": "[encoded data removed]",
      "text/plain": [
       "<matplotlib.figure.Figure at 0x7f3542c66048>"
      ]
     },
     "metadata": {},
     "output_type": "display_data"
    }
   ],
   "source": [
    "step = 100\n",
    "stop = int(len(labeled_svm) * (2./3.))\n",
    "Ns = np.arange(500, stop , step)\n",
    "\n",
    "scores = np.zeros(len(Ns))\n",
    "stds = np.zeros(len(Ns))\n",
    "for i in range(len(Ns)):\n",
    "    N = Ns[i]\n",
    "    ss = model_selection.StratifiedShuffleSplit(test_size = 1./3., train_size = N)\n",
    "    scores_i = model_selection.cross_val_score(clf, labeled_svm, classes, cv=ss)\n",
    "    scores[i] = scores_i.mean()\n",
    "    stds[i] = scores_i.std()\n",
    "\n",
    "    \n",
    "# Get our optimal n\n",
    "optimal_n = Ns[np.argmax(scores)]\n",
    "    \n",
    "# Plot our results, including optimal n\n",
    "plt.clf()\n",
    "fig = plt.figure()\n",
    "ax = fig.add_subplot(1,1,1)\n",
    "ax.errorbar (Ns, scores, yerr = stds)\n",
    "ax.set_xlabel(\"N\")\n",
    "ax.set_ylabel(\"Accuracy\")\n",
    "plt.title(\"Optimal: $n={}$\".format(optimal_n))    \n",
    "plt.show()"
   ]
  },
  {
   "cell_type": "markdown",
   "metadata": {},
   "source": [
    "### 4. Pick your SVC (Support Vector Classification)\n",
    "\n",
    "There are a number of possible different classifiers that are available but the classifiers _du jour_ are all Support Vector Machines (SVM). However, even with an SVM there is the decision of which kernel to use. Luckily these can be tested.\n",
    "\n",
    "We use the sklean.svm.svc module with a few different kernels to attempt some fits."
   ]
  },
  {
   "cell_type": "markdown",
   "metadata": {},
   "source": [
    "#### Determine Best Kernel Classifier\n",
    "\n",
    "Run through the different kernels for an SVC to determine the best. Possible kernels are:\n",
    "    \n",
    "* linear\n",
    "* poly \n",
    "* rbf\n",
    "* sigmoid\n",
    "* precomputed\n",
    "    \n",
    "We perform an exhaustive grid search across all the kernels with a range of different values. We compute these separately so that we can then compare each with an ROC. The grid search would handle this internally if we ran them all together but we want to generate an ROC plot so we do it separate.\n",
    "\n",
    "#### Get the optimal SVC\n",
    "\n",
    "Here we define the parameters for each of the kernel types and then run them through an exhaustive grid search. This is similar to the examples above where we ran through a list of $C$ and $\\gamma$ values but here the `GridSearchCV` takes care of all the details. This gets us our optimal classifier based on this exhaustive search.\n",
    "\n",
    "One area of uncertainty is the selection of our ranges below. We lifted the $C$ and $\\gamma$ ranges from Guillermo's Hands-On (_todo: get reference_) and just copied that over for the coefficient range. We totall guessed at the degree range and would need to explore that more."
   ]
  },
  {
   "cell_type": "code",
   "execution_count": 17,
   "metadata": {
    "collapsed": true
   },
   "outputs": [],
   "source": [
    "def get_optimal_svc(param_grid=list(), plot=False):\n",
    "    \n",
    "    # Do the grid search\n",
    "    grid = model_selection.GridSearchCV(svm.SVC(), param_grid=param_grid, cv=ss)\n",
    "    grid.fit (labeled_svm, classes)\n",
    "    \n",
    "    if plot:\n",
    "        score_dict = grid.cv_results_\n",
    "        \n",
    "        # We extract the scores\n",
    "        scores = np.array([x[1] for x in score_dict])\n",
    "        scores = scores.reshape(len(C_range), len(gamma_range))\n",
    "\n",
    "        # Make a nice figure\n",
    "        plt.figure(figsize=(8, 6))\n",
    "        plt.subplots_adjust(left=0.15, right=0.95, bottom=0.15, top=0.95)\n",
    "        plt.imshow(scores, interpolation='nearest', cmap=plt.cm.gist_heat)\n",
    "        plt.xlabel('$\\gamma$')\n",
    "        plt.ylabel('$C$')\n",
    "        plt.title('Heatmap for optimal: $C={}$ and $\\gamma={}$\\n'.format(grid.best_estimator_.C, grid.best_estimator_.gamma))\n",
    "        plt.colorbar()\n",
    "        plt.xticks(np.arange(len(gamma_range)), gamma_range, rotation=45)\n",
    "        plt.yticks(np.arange(len(C_range)), C_range)\n",
    "        plt.show()\n",
    "\n",
    "    print(\"The best classifier for this run is: {}\".format(grid.best_estimator_))\n",
    "    return grid.best_estimator_"
   ]
  },
  {
   "cell_type": "markdown",
   "metadata": {},
   "source": [
    "_**Note: This takes a long time **_"
   ]
  },
  {
   "cell_type": "code",
   "execution_count": 18,
   "metadata": {
    "collapsed": false
   },
   "outputs": [
    {
     "name": "stdout",
     "output_type": "stream",
     "text": [
      "['rbf']...\n",
      "The best classifier for this run is: SVC(C=1000.0, cache_size=200, class_weight=None, coef0=0.0,\n",
      "  decision_function_shape=None, degree=3, gamma=0.01, kernel='rbf',\n",
      "  max_iter=-1, probability=False, random_state=None, shrinking=True,\n",
      "  tol=0.001, verbose=False)\n",
      "['linear']...\n",
      "The best classifier for this run is: SVC(C=1.0, cache_size=200, class_weight=None, coef0=0.0,\n",
      "  decision_function_shape=None, degree=3, gamma='auto', kernel='linear',\n",
      "  max_iter=-1, probability=False, random_state=None, shrinking=True,\n",
      "  tol=0.001, verbose=False)\n",
      "['poly']...\n",
      "The best classifier for this run is: SVC(C=1.0, cache_size=200, class_weight=None, coef0=0.0,\n",
      "  decision_function_shape=None, degree=3, gamma='auto', kernel='poly',\n",
      "  max_iter=-1, probability=False, random_state=None, shrinking=True,\n",
      "  tol=0.001, verbose=False)\n",
      "['sigmoid']...\n",
      "The best classifier for this run is: SVC(C=1.0, cache_size=200, class_weight=None, coef0=0.0,\n",
      "  decision_function_shape=None, degree=3, gamma='auto', kernel='sigmoid',\n",
      "  max_iter=-1, probability=False, random_state=None, shrinking=True,\n",
      "  tol=0.001, verbose=False)\n"
     ]
    }
   ],
   "source": [
    "# Setup our ranges\n",
    "C_range = 10. ** np.arange(-4, 4)\n",
    "gamma_range = 10. ** np.arange(-4, 4)\n",
    "deg_range = np.arange(1, 3)\n",
    "coef_range = 10. ** np.arange(-4, 4)\n",
    "\n",
    "param_grids = [\n",
    "#     { 'C': C_range, 'kernel': ['linear'] },\n",
    "#     { 'C': C_range, 'gamma': gamma_range, 'degree': deg_range, 'coef0': coef_range, 'kernel': ['poly'] },\n",
    "    { 'C': C_range, 'gamma': gamma_range, 'kernel': ['rbf'] },\n",
    "#     { 'C': C_range, 'gamma': gamma_range, 'coef0': coef_range, 'kernel': ['sigmoid'] },\n",
    "    \n",
    "    { 'kernel': ['linear'] },\n",
    "    { 'kernel': ['poly'] },\n",
    "    { 'kernel': ['sigmoid'] },\n",
    "]\n",
    "\n",
    "best_svcs = list()\n",
    "\n",
    "# Run the param_grid one at a time (to compare ROC below)\n",
    "# Get the best clf for each kernel type\n",
    "for param_grid in param_grids:\n",
    "    print(\"{}...\".format(param_grid.get('kernel')))\n",
    "    clf = get_optimal_svc(param_grid=param_grid, plot=False)\n",
    "        \n",
    "    param_grid['clf'] = clf\n",
    "    \n",
    "    best_svcs.append(param_grid)"
   ]
  },
  {
   "cell_type": "markdown",
   "metadata": {},
   "source": [
    "### 5. Classify\n",
    "\n",
    "We have obtained our best classifiers above, so we classify the data with each. We will then compare how these classifiers worked with a ROC.\n",
    "\n",
    "First we define our `classify` and `compute_roc` functions and then use them below."
   ]
  },
  {
   "cell_type": "code",
   "execution_count": 19,
   "metadata": {
    "collapsed": true
   },
   "outputs": [],
   "source": [
    "def classify(clf=None, save_output=False):\n",
    "\n",
    "    # Use the best estimator from above and fit with our trained data and classes\n",
    "    clf.fit(labeled_svm, classes)\n",
    "\n",
    "    # Attempt a prediction\n",
    "    predicted_classes = clf.predict(unlabeled_svm)\n",
    "\n",
    "    if save_output:\n",
    "        # Creating an array to hold our new predicted values\n",
    "        out = np.zeros ((len(pred_class), unlabeled_svm.shape[1] + 1))\n",
    "        out[:,:unlabeled_svm.shape[1]] = unlabeled_svm[:][:]\n",
    "        out[:, -1] = predicted_classes [:]\n",
    "\n",
    "        classifications_filename = \"classifications_predicted_{}.csv\".format(clf.kernel)\n",
    "        \n",
    "        # Save our new classifications out to a file\n",
    "        np.savetxt(classifications_filename, out, delimiter=\",\")\n",
    "    \n",
    "    return predicted_classes"
   ]
  },
  {
   "cell_type": "code",
   "execution_count": 20,
   "metadata": {
    "collapsed": true
   },
   "outputs": [],
   "source": [
    "def compute_roc(predicted_classes=None):\n",
    "    # Get our mask array of true values\n",
    "    predicted_correct_mask = np.array(unlabeled_classes == predicted_classes)\n",
    "\n",
    "    # Get the scores from the classifier\n",
    "    y_score = clf.decision_function(unlabeled_svm)\n",
    "\n",
    "    # Perform the ROC to get false-positives and true-positives\n",
    "    fpr, tpr, thresh =  metrics.roc_curve(predicted_correct_mask,y_score[:,0])\n",
    "    roc_auc = metrics.auc(fpr,tpr)\n",
    "    \n",
    "    return fpr, tpr, roc_auc"
   ]
  },
  {
   "cell_type": "code",
   "execution_count": 21,
   "metadata": {
    "collapsed": false
   },
   "outputs": [
    {
     "name": "stdout",
     "output_type": "stream",
     "text": [
      "rbf \n",
      "\t Classifying...\n",
      "\t Compute ROC...\n",
      "linear \n",
      "\t Classifying...\n"
     ]
    },
    {
     "name": "stderr",
     "output_type": "stream",
     "text": [
      "/home/wtgee/anaconda3/lib/python3.5/site-packages/sklearn/svm/base.py:552: ChangedBehaviorWarning: The decision_function_shape default value will change from 'ovo' to 'ovr' in 0.19. This will change the shape of the decision function returned by SVC.\n",
      "  \"SVC.\", ChangedBehaviorWarning)\n"
     ]
    },
    {
     "name": "stdout",
     "output_type": "stream",
     "text": [
      "\t Compute ROC...\n",
      "poly \n",
      "\t Classifying...\n",
      "\t Compute ROC...\n",
      "sigmoid \n",
      "\t Classifying...\n",
      "\t Compute ROC...\n"
     ]
    }
   ],
   "source": [
    "# Loop over each SVC type, classify, then compute the ROC\n",
    "for kernel in best_svcs:\n",
    "    clf = kernel.get('clf')\n",
    "\n",
    "    print(\"{} \".format(clf.kernel))\n",
    "\n",
    "    # Do the actual classifying\n",
    "    print(\"\\t Classifying...\")\n",
    "    pred_class = classify(clf)\n",
    "    \n",
    "    # Compute the ROC\n",
    "    print(\"\\t Compute ROC...\")\n",
    "    fpr, tpr, auc = compute_roc(pred_class)\n",
    "    \n",
    "    # Store the predicted classes and the ROC params\n",
    "    kernel['predicted_classes'] = pred_class\n",
    "    kernel['fpr'] = fpr\n",
    "    kernel['tpr'] = tpr\n",
    "    kernel['auc'] = auc    "
   ]
  },
  {
   "cell_type": "markdown",
   "metadata": {},
   "source": [
    "#### ROC Curve\n",
    "Here we determine which classifier was the \"best\" via an ROC Curve.\n",
    "\n",
    "_NOTE: We could have just performed the exhaustive grid search above and it would have automatically compared all of these and output the absolute best, but because we wanted to generate an ROC we performed them separately._"
   ]
  },
  {
   "cell_type": "code",
   "execution_count": 22,
   "metadata": {
    "collapsed": true
   },
   "outputs": [],
   "source": [
    "def plot_roc(classifier_list=None):\n",
    "    # Plot the ROC for each kernel type\n",
    "    plt.clf()\n",
    "    fig = plt.figure()\n",
    "    ax = fig.add_subplot(1,1,1)\n",
    "\n",
    "    # Add a line for each kernel\n",
    "    for classifier in classifier_list:\n",
    "        fpr = classifier['fpr']\n",
    "        tpr = classifier['tpr']\n",
    "        auc = classifier['auc']\n",
    "        ax.plot (fpr, tpr, label='{} (area = {:0.2f})'.format(classifier.get('kernel')[0], auc))\n",
    "\n",
    "    plt.legend(loc=4)\n",
    "    plt.xlabel('False Positive Rate')\n",
    "    plt.ylabel('True Positive Rate')\n",
    "    plt.title('Receiver Operating Characteristic Curve')\n",
    "    plt.show()"
   ]
  },
  {
   "cell_type": "code",
   "execution_count": 23,
   "metadata": {
    "collapsed": false
   },
   "outputs": [
    {
     "data": {
      "text/plain": [
       "<matplotlib.figure.Figure at 0x7f35409fd3c8>"
      ]
     },
     "metadata": {},
     "output_type": "display_data"
    },
    {
     "data": {
      "image/png": "[encoded data removed]",
      "text/plain": [
       "<matplotlib.figure.Figure at 0x7f35409fda20>"
      ]
     },
     "metadata": {},
     "output_type": "display_data"
    }
   ],
   "source": [
    "plot_roc(classifier_list=best_svcs)"
   ]
  },
  {
   "cell_type": "markdown",
   "metadata": {},
   "source": [
    "After looking at the ROC curve above, we select the best estimator based on highest area under the curve."
   ]
  },
  {
   "cell_type": "code",
   "execution_count": 24,
   "metadata": {
    "collapsed": false
   },
   "outputs": [
    {
     "name": "stderr",
     "output_type": "stream",
     "text": [
      "/home/wtgee/anaconda3/lib/python3.5/site-packages/ipykernel/__main__.py:10: SettingWithCopyWarning: \n",
      "A value is trying to be set on a copy of a slice from a DataFrame.\n",
      "Try using .loc[row_indexer,col_indexer] = value instead\n",
      "\n",
      "See the caveats in the documentation: http://pandas.pydata.org/pandas-docs/stable/indexing.html#indexing-view-versus-copy\n"
     ]
    }
   ],
   "source": [
    "# Get the areas under the curve\n",
    "aucs = np.array([x.get('auc') for x in best_svcs])\n",
    "\n",
    "# Get classifier with most area\n",
    "best_estimator = best_svcs[np.where(aucs.max())[0][0]]\n",
    "\n",
    "# Predicted classed by the bestest classifier\n",
    "predicted_classes = best_estimator.get('predicted_classes')\n",
    "\n",
    "test_all['predicted'] = predicted_classes"
   ]
  },
  {
   "cell_type": "code",
   "execution_count": 25,
   "metadata": {
    "collapsed": false
   },
   "outputs": [
    {
     "data": {
      "text/html": [
       "<div>\n",
       "<table border=\"1\" class=\"dataframe\">\n",
       "  <thead>\n",
       "    <tr style=\"text-align: right;\">\n",
       "      <th></th>\n",
       "      <th>amplitude</th>\n",
       "      <th>class</th>\n",
       "      <th>iqr</th>\n",
       "      <th>mag_median</th>\n",
       "      <th>period</th>\n",
       "      <th>predicted</th>\n",
       "      <th>skew</th>\n",
       "    </tr>\n",
       "    <tr>\n",
       "      <th>ID</th>\n",
       "      <th></th>\n",
       "      <th></th>\n",
       "      <th></th>\n",
       "      <th></th>\n",
       "      <th></th>\n",
       "      <th></th>\n",
       "      <th></th>\n",
       "    </tr>\n",
       "  </thead>\n",
       "  <tbody>\n",
       "    <tr>\n",
       "      <th>1126005035409</th>\n",
       "      <td>0.11</td>\n",
       "      <td>1</td>\n",
       "      <td>0.0475</td>\n",
       "      <td>15.190</td>\n",
       "      <td>0.815859</td>\n",
       "      <td>1</td>\n",
       "      <td>0.458680</td>\n",
       "    </tr>\n",
       "    <tr>\n",
       "      <th>1129005005886</th>\n",
       "      <td>0.30</td>\n",
       "      <td>1</td>\n",
       "      <td>0.0900</td>\n",
       "      <td>15.680</td>\n",
       "      <td>0.276828</td>\n",
       "      <td>1</td>\n",
       "      <td>1.032698</td>\n",
       "    </tr>\n",
       "    <tr>\n",
       "      <th>1009006018898</th>\n",
       "      <td>0.66</td>\n",
       "      <td>1</td>\n",
       "      <td>0.3700</td>\n",
       "      <td>14.270</td>\n",
       "      <td>0.247752</td>\n",
       "      <td>1</td>\n",
       "      <td>0.876586</td>\n",
       "    </tr>\n",
       "    <tr>\n",
       "      <th>1140005007210</th>\n",
       "      <td>0.20</td>\n",
       "      <td>1</td>\n",
       "      <td>0.1700</td>\n",
       "      <td>16.465</td>\n",
       "      <td>0.476515</td>\n",
       "      <td>1</td>\n",
       "      <td>-0.184692</td>\n",
       "    </tr>\n",
       "    <tr>\n",
       "      <th>1129005028015</th>\n",
       "      <td>0.64</td>\n",
       "      <td>1</td>\n",
       "      <td>0.3500</td>\n",
       "      <td>16.230</td>\n",
       "      <td>0.283300</td>\n",
       "      <td>1</td>\n",
       "      <td>0.763714</td>\n",
       "    </tr>\n",
       "  </tbody>\n",
       "</table>\n",
       "</div>"
      ],
      "text/plain": [
       "               amplitude  class     iqr  mag_median    period  predicted  \\\n",
       "ID                                                                         \n",
       "1126005035409       0.11      1  0.0475      15.190  0.815859          1   \n",
       "1129005005886       0.30      1  0.0900      15.680  0.276828          1   \n",
       "1009006018898       0.66      1  0.3700      14.270  0.247752          1   \n",
       "1140005007210       0.20      1  0.1700      16.465  0.476515          1   \n",
       "1129005028015       0.64      1  0.3500      16.230  0.283300          1   \n",
       "\n",
       "                   skew  \n",
       "ID                       \n",
       "1126005035409  0.458680  \n",
       "1129005005886  1.032698  \n",
       "1009006018898  0.876586  \n",
       "1140005007210 -0.184692  \n",
       "1129005028015  0.763714  "
      ]
     },
     "execution_count": 25,
     "metadata": {},
     "output_type": "execute_result"
    }
   ],
   "source": [
    "test_all.head()"
   ]
  },
  {
   "cell_type": "markdown",
   "metadata": {},
   "source": [
    "### 6. Analysis\n",
    "\n",
    "We can look at the number that have been misclassified, which will help us determine some properties."
   ]
  },
  {
   "cell_type": "code",
   "execution_count": 26,
   "metadata": {
    "collapsed": false
   },
   "outputs": [
    {
     "name": "stdout",
     "output_type": "stream",
     "text": [
      "Total number of miscalssified: 57 (94.93%)\n"
     ]
    }
   ],
   "source": [
    "# Get all misclassified entries\n",
    "misclassified = test_all[test_all['predicted'] != test_all['class']]\n",
    "\n",
    "length_of_diff = len(misclassified)\n",
    "length_of_unlabeled = len(unlabeled_classes)\n",
    "\n",
    "diff_percentage = 1 - (float(length_of_diff)/float(length_of_unlabeled))\n",
    "\n",
    "print(\"Total number of miscalssified: {} ({:.2%})\".format(len(misclassified), diff_percentage))"
   ]
  },
  {
   "cell_type": "code",
   "execution_count": 27,
   "metadata": {
    "collapsed": false
   },
   "outputs": [
    {
     "data": {
      "text/html": [
       "<div>\n",
       "<table border=\"1\" class=\"dataframe\">\n",
       "  <thead>\n",
       "    <tr style=\"text-align: right;\">\n",
       "      <th></th>\n",
       "      <th>amplitude</th>\n",
       "      <th>class</th>\n",
       "      <th>iqr</th>\n",
       "      <th>mag_median</th>\n",
       "      <th>period</th>\n",
       "      <th>predicted</th>\n",
       "      <th>skew</th>\n",
       "    </tr>\n",
       "    <tr>\n",
       "      <th>ID</th>\n",
       "      <th></th>\n",
       "      <th></th>\n",
       "      <th></th>\n",
       "      <th></th>\n",
       "      <th></th>\n",
       "      <th></th>\n",
       "      <th></th>\n",
       "    </tr>\n",
       "  </thead>\n",
       "  <tbody>\n",
       "    <tr>\n",
       "      <th>1140005086947</th>\n",
       "      <td>0.42</td>\n",
       "      <td>1</td>\n",
       "      <td>0.0700</td>\n",
       "      <td>15.87</td>\n",
       "      <td>0.538040</td>\n",
       "      <td>2</td>\n",
       "      <td>2.271308</td>\n",
       "    </tr>\n",
       "    <tr>\n",
       "      <th>1115006043119</th>\n",
       "      <td>0.34</td>\n",
       "      <td>1</td>\n",
       "      <td>0.0700</td>\n",
       "      <td>13.57</td>\n",
       "      <td>0.603351</td>\n",
       "      <td>2</td>\n",
       "      <td>2.296614</td>\n",
       "    </tr>\n",
       "    <tr>\n",
       "      <th>1118006036564</th>\n",
       "      <td>0.23</td>\n",
       "      <td>1</td>\n",
       "      <td>0.1500</td>\n",
       "      <td>17.37</td>\n",
       "      <td>1.272700</td>\n",
       "      <td>2</td>\n",
       "      <td>1.855142</td>\n",
       "    </tr>\n",
       "    <tr>\n",
       "      <th>1007006007641</th>\n",
       "      <td>0.37</td>\n",
       "      <td>2</td>\n",
       "      <td>0.1175</td>\n",
       "      <td>15.04</td>\n",
       "      <td>0.342291</td>\n",
       "      <td>1</td>\n",
       "      <td>2.472513</td>\n",
       "    </tr>\n",
       "    <tr>\n",
       "      <th>1135005042159</th>\n",
       "      <td>0.33</td>\n",
       "      <td>2</td>\n",
       "      <td>0.1700</td>\n",
       "      <td>15.01</td>\n",
       "      <td>0.404876</td>\n",
       "      <td>1</td>\n",
       "      <td>1.128281</td>\n",
       "    </tr>\n",
       "  </tbody>\n",
       "</table>\n",
       "</div>"
      ],
      "text/plain": [
       "               amplitude  class     iqr  mag_median    period  predicted  \\\n",
       "ID                                                                         \n",
       "1140005086947       0.42      1  0.0700       15.87  0.538040          2   \n",
       "1115006043119       0.34      1  0.0700       13.57  0.603351          2   \n",
       "1118006036564       0.23      1  0.1500       17.37  1.272700          2   \n",
       "1007006007641       0.37      2  0.1175       15.04  0.342291          1   \n",
       "1135005042159       0.33      2  0.1700       15.01  0.404876          1   \n",
       "\n",
       "                   skew  \n",
       "ID                       \n",
       "1140005086947  2.271308  \n",
       "1115006043119  2.296614  \n",
       "1118006036564  1.855142  \n",
       "1007006007641  2.472513  \n",
       "1135005042159  1.128281  "
      ]
     },
     "execution_count": 27,
     "metadata": {},
     "output_type": "execute_result"
    }
   ],
   "source": [
    "misclassified.head()"
   ]
  },
  {
   "cell_type": "code",
   "execution_count": 28,
   "metadata": {
    "collapsed": false
   },
   "outputs": [
    {
     "name": "stdout",
     "output_type": "stream",
     "text": [
      "Type\t\tTotal Number\tNumber Misclassified\tMisclassified Percent\n",
      "-----------------------------------------------------------------------------\n",
      "EW            \t         986\t                  12\t                1.22%\n",
      "EA            \t         124\t                  30\t               24.19%\n",
      "beta Lyrae    \t          15\t                  15\t              100.00%\n"
     ]
    }
   ],
   "source": [
    "types = { 1: 'EW', 2: 'EA', 3: 'beta Lyrae'}\n",
    "\n",
    "# How many of each Variable Type do we have\n",
    "print(\"Type\\t\\tTotal Number\\tNumber Misclassified\\tMisclassified Percent\".format())\n",
    "print(\"{}\".format('-'*77))\n",
    "for x in range(1,4):\n",
    "\n",
    "    total_num = len(test_all[test_all['class'] == x])\n",
    "    \n",
    "    a = misclassified['class'] == x\n",
    "    b = misclassified['predicted'] != x\n",
    "    total_miss = len(misclassified[a & b]) \n",
    "    \n",
    "    percent = total_miss / total_num\n",
    "    \n",
    "    print(\"{:14s}\\t{:12d}\\t{:20d}\\t{:21.2%}\".format(types[x],total_num, total_miss, percent))"
   ]
  },
  {
   "cell_type": "code",
   "execution_count": null,
   "metadata": {
    "collapsed": true
   },
   "outputs": [],
   "source": []
  }
 ],
 "metadata": {
  "anaconda-cloud": {},
  "kernelspec": {
   "display_name": "Python [conda root]",
   "language": "python",
   "name": "conda-root-py"
  },
  "language_info": {
   "codemirror_mode": {
    "name": "ipython",
    "version": 3
   },
   "file_extension": ".py",
   "mimetype": "text/x-python",
   "name": "python",
   "nbconvert_exporter": "python",
   "pygments_lexer": "ipython3",
   "version": "3.5.2"
  }
 },
 "nbformat": 4,
 "nbformat_minor": 1
}
