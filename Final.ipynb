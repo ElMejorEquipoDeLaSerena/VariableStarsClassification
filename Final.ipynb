{
 "metadata": {
  "name": "",
  "signature": "sha256:2086ceb29b7fe775e934faec4f02d889e06123e195382196c861a10af13d66b3"
 },
 "nbformat": 3,
 "nbformat_minor": 0,
 "worksheets": [
  {
   "cells": [
    {
     "cell_type": "code",
     "collapsed": false,
     "input": [
      "import os.path\n",
      "import sys\n",
      "import urllib\n",
      "\n",
      "import numpy as np\n",
      "\n",
      "import matplotlib\n",
      "import matplotlib.pyplot as plt\n",
      "import pylab as pl\n",
      "\n",
      "from sklearn import svm, cross_validation, metrics\n",
      "from sklearn.grid_search import GridSearchCV\n",
      "from sklearn.naive_bayes import GaussianNB\n",
      "\n",
      "import scipy.stats as stats\n",
      "\n",
      "%matplotlib inline\n",
      "\n",
      "from astroML.time_series import lomb_scargle\n",
      "\n",
      "# Set some default font properties\n",
      "matplotlib.rcParams['figure.figsize'] = (10.0, 8.0)\n",
      "matplotlib.rcParams['font.size'] = 18"
     ],
     "language": "python",
     "metadata": {},
     "outputs": [],
     "prompt_number": 105
    },
    {
     "cell_type": "markdown",
     "metadata": {},
     "source": [
      "# Load Data\n",
      "\n",
      "Our catalog data comes mostly from the Catalina Sky Survey (http://catalinadata.org) but also includes additional data from other catalogs."
     ]
    },
    {
     "cell_type": "code",
     "collapsed": false,
     "input": [
      "# Load our matched data from the catalog\n",
      "cat_data = 'catalog_data_final/matched_data.csv'\n",
      "catalog = np.genfromtxt(cat_data, dtype=None, names=True, delimiter=',')"
     ],
     "language": "python",
     "metadata": {},
     "outputs": [],
     "prompt_number": 6
    },
    {
     "cell_type": "code",
     "collapsed": false,
     "input": [
      "print \"Columns in our catalog:\"\n",
      "for i, name in enumerate(catalog.dtype.names):\n",
      "    print \"{:2d} {}\".format(i, name)"
     ],
     "language": "python",
     "metadata": {},
     "outputs": [
      {
       "output_type": "stream",
       "stream": "stdout",
       "text": [
        "Columns in our catalog:\n",
        " 0 InputID\n",
        " 1 ID\n",
        " 2 Mag\n",
        " 3 Magerr\n",
        " 4 RA\n",
        " 5 Decl\n",
        " 6 MJD\n",
        " 7 Blend\n",
        " 8 Catalina_Surveys_ID\n",
        " 9 Numerical_ID\n",
        "10 RA_J2000\n",
        "11 Dec\n",
        "12 V_mag\n",
        "13 Period_days\n",
        "14 Amplitude\n",
        "15 Number_Obs\n",
        "16 Var_Type\n",
        "17 epoch_folding\n"
       ]
      }
     ],
     "prompt_number": 106
    },
    {
     "cell_type": "markdown",
     "metadata": {},
     "source": [
      "# Setup our Features"
     ]
    },
    {
     "cell_type": "code",
     "collapsed": false,
     "input": [
      "def get_irq(rows):\n",
      "    mags = rows['Mag']\n",
      "    return np.percentile(mags, 75) - np.percentile(mags, 25)\n",
      "\n",
      "def get_skew(rows):\n",
      "    skew = stats.skew(rows['Mag'])    \n",
      "    return skew\n",
      "\n",
      "def get_median(rows):\n",
      "    return np.median(rows['Mag'])\n",
      "\n",
      "def build_features(save_file='features.txt', limit=False):\n",
      "    \"\"\"\n",
      "    Builds our feature array. Loops over entire loaded catalog\n",
      "    and creates one row per object. Current features include:\n",
      "    \n",
      "        * Period (from catalog)\n",
      "        * Magnitude\n",
      "        * Median\n",
      "        * Amplitude\n",
      "        * Skew\n",
      "        * IQR\n",
      "        \n",
      "    If you want a limited set (for faster building), pass\n",
      "    limit=True\n",
      "    \"\"\"\n",
      "\n",
      "    obj_id_array = np.unique(catalog['ID'])\n",
      "\n",
      "    features = np.zeros( (len(obj_id_array), 11) )\n",
      "\n",
      "    # For each object\n",
      "    for i in range(len(obj_id_array)):\n",
      "        obj_id = obj_id_array[i]\n",
      "    \n",
      "        rows = catalog[(catalog['ID'] == obj_id)]\n",
      "        \n",
      "        if limit & i > 500:\n",
      "            break\n",
      "        \n",
      "        features[i,0] = obj_id # Object ID\n",
      "        features[i,1] = rows['Var_Type'][0] # Class\n",
      "        features[i,2] = 0. # Predicted Class        \n",
      "        features[i,3] = rows['RA'][0] # RA_J2000\n",
      "        features[i,4] = rows['Decl'][0] # Dec\n",
      "        features[i,5] = rows['Period_days'][0]  # Period\n",
      "        features[i,6] = rows['Mag'][0]  # Mag\n",
      "        features[i,7] = get_median(rows)  # Median\n",
      "        features[i,8] = rows['Amplitude'][0]  # Amplitude\n",
      "        features[i,9] = get_skew(rows)  # Skew\n",
      "        features[i,10] = get_irq(rows)  # IQR\n",
      "        \n",
      "        # Save the files\n",
      "        np.savetxt('features.txt', features, delimiter=',', \n",
      "           header=\"Object ID, Class, RAJ2000, Dec, Period, Mag, Amplitude, Median, Skew, IQR\")\n",
      "        \n",
      "    return features"
     ],
     "language": "python",
     "metadata": {},
     "outputs": [],
     "prompt_number": 107
    },
    {
     "cell_type": "code",
     "collapsed": false,
     "input": [
      "# Get our features. Either build them from scratch or load from file\n",
      "# If we build them from scratch, we also pass in the file name to save.\n",
      "\n",
      "features = None\n",
      "\n",
      "features_file = 'features.txt'\n",
      "if os.path.isfile(features_file):\n",
      "    features = np.loadtxt(features_file, dtype=None, delimiter=\",\")\n",
      "else:\n",
      "    features = build_features(save_file=features_file)\n",
      "    \n",
      "# Display a row the features\n",
      "features[0]"
     ],
     "language": "python",
     "metadata": {},
     "outputs": [
      {
       "metadata": {},
       "output_type": "pyout",
       "prompt_number": 112,
       "text": [
        "array([  1.00100400e+12,   3.00000000e+00,   0.00000000e+00,\n",
        "         1.07909400e+01,  -2.64900000e+00,   2.18273000e-01,\n",
        "         1.73200000e+01,   1.73000000e+01,   6.00000000e-01,\n",
        "         1.24340797e+00,   2.20000000e-01])"
       ]
      }
     ],
     "prompt_number": 112
    },
    {
     "cell_type": "markdown",
     "metadata": {},
     "source": [
      "# Separate Training and Test Data"
     ]
    },
    {
     "cell_type": "code",
     "collapsed": false,
     "input": [
      "# Start to build the table we will use\n",
      "\n",
      "# For Training data, we want to get a certain amount of our\n",
      "# table, we slice off a percentage\n",
      "row_start = 0\n",
      "row_end = len(features) - int(.25 * len(features))\n",
      "\n",
      "# Our features table also contains meta information, so we slice\n",
      "feature_column_start = 5\n",
      "\n",
      "# Our collections of data to train and test\n",
      "labeled_svm = features[row_start:row_end,feature_column_start:]\n",
      "unlabeled_svm = features[row_end:,feature_column_start:]\n",
      "test_all = features[row_end:]\n",
      "\n",
      "# The correct classes corresponding to the training and test\n",
      "classes = features[row_start:row_end,1]\n",
      "unlabeled_classes = features[row_end:,1]"
     ],
     "language": "python",
     "metadata": {},
     "outputs": [],
     "prompt_number": 113
    },
    {
     "cell_type": "markdown",
     "metadata": {},
     "source": [
      "Display the number of each class that we have in the training and test data"
     ]
    },
    {
     "cell_type": "code",
     "collapsed": false,
     "input": [
      "types = { 1: 'EW', 2: 'EA', 3: 'beta Lyrae'}\n",
      "\n",
      "# How many of each Variable Type do we have\n",
      "print \"Type\\t\\t\\tType\\t\\tNumber\".format()\n",
      "print \"{}\".format('-'*45)\n",
      "for x in range(1,4):\n",
      "    print \"Labeled Class size:\\t {:14s} {}\".format(types[x],len(classes[classes == x]))\n",
      "    print \"Unlabelel Class size:\\t {:14s} {}\\n\".format(types[x],len(unlabeled_classes[unlabeled_classes == x]))"
     ],
     "language": "python",
     "metadata": {},
     "outputs": [
      {
       "output_type": "stream",
       "stream": "stdout",
       "text": [
        "Type\t\t\tType\t\tNumber\n",
        "---------------------------------------------\n",
        "Labeled Class size:\t EW             2888\n",
        "Unlabelel Class size:\t EW             1036\n",
        "\n",
        "Labeled Class size:\t EA             450\n",
        "Unlabelel Class size:\t EA             85\n",
        "\n",
        "Labeled Class size:\t beta Lyrae     37\n",
        "Unlabelel Class size:\t beta Lyrae     4\n",
        "\n"
       ]
      }
     ],
     "prompt_number": 114
    },
    {
     "cell_type": "markdown",
     "metadata": {},
     "source": [
      "# Figure out what training size is optimal"
     ]
    },
    {
     "cell_type": "markdown",
     "metadata": {},
     "source": [
      "Here we use a set Test size but are trying to determine the optimal size for our training set. We loop over a number of sizes and determine the accuracy from each."
     ]
    },
    {
     "cell_type": "markdown",
     "metadata": {},
     "source": [
      "Here we do an initial split on the data and then try to predict with our classifier. Because of the simple split done with `train_test_split` we do not expect to achieve a high accuracy."
     ]
    },
    {
     "cell_type": "code",
     "collapsed": false,
     "input": [
      "# Create our (linear) classifier\n",
      "clf = svm.LinearSVC()\n",
      "clf.fit(labeled_svm, classes)"
     ],
     "language": "python",
     "metadata": {},
     "outputs": [
      {
       "metadata": {},
       "output_type": "pyout",
       "prompt_number": 115,
       "text": [
        "LinearSVC(C=1.0, class_weight=None, dual=True, fit_intercept=True,\n",
        "     intercept_scaling=1, loss='l2', multi_class='ovr', penalty='l2',\n",
        "     random_state=None, tol=0.0001, verbose=0)"
       ]
      }
     ],
     "prompt_number": 115
    },
    {
     "cell_type": "code",
     "collapsed": false,
     "input": [
      "X_train, X_test, y_train, y_test = cross_validation.train_test_split (labeled_svm, classes, test_size=1./3.)\n",
      "\n",
      "print(\"training set = {} {}\".format(X_train.shape, y_train.shape))\n",
      "print(\"test size = {} {}\".format(X_test.shape, y_test.shape))\n",
      "\n",
      "clf.fit(X_train, y_train)\n",
      "pred_class = clf.predict(X_test)\n",
      "N_match = (pred_class == y_test).sum()\n",
      "print(\"N_match = {}\".format(N_match))\n",
      "acc = 1. * N_match / len(pred_class)\n",
      "print(\"Accuracy = {}\".format(acc))"
     ],
     "language": "python",
     "metadata": {},
     "outputs": [
      {
       "output_type": "stream",
       "stream": "stdout",
       "text": [
        "training set = (2250, 6) (2250,)\n",
        "test size = (1125, 6) (1125,)\n",
        "N_match = 1029"
       ]
      },
      {
       "output_type": "stream",
       "stream": "stdout",
       "text": [
        "\n",
        "Accuracy = 0.914666666667\n"
       ]
      }
     ],
     "prompt_number": 116
    },
    {
     "cell_type": "markdown",
     "metadata": {},
     "source": [
      "Here we use a slightly more intelligent split of the labeled data (with `StratifiedShuffleSplit`) to attempt to achieve a higher accuracy"
     ]
    },
    {
     "cell_type": "code",
     "collapsed": false,
     "input": [
      "ss = cross_validation.StratifiedShuffleSplit(classes, 5, test_size = 1./3.)\n",
      "scores = cross_validation.cross_val_score(clf, labeled_svm, classes, cv=ss)\n",
      "print \"Accuracy = {} +- {}\".format(scores.mean(),scores.std())"
     ],
     "language": "python",
     "metadata": {},
     "outputs": [
      {
       "output_type": "stream",
       "stream": "stdout",
       "text": [
        "Accuracy = 0.918933333333 +- 0.00958022654955\n"
       ]
      }
     ],
     "prompt_number": 117
    },
    {
     "cell_type": "markdown",
     "metadata": {},
     "source": [
      "### See if there is a better training size that we can use"
     ]
    },
    {
     "cell_type": "code",
     "collapsed": false,
     "input": [
      "step = 100\n",
      "stop = int(len(labeled_svm) * (2./3.))\n",
      "Ns = np.arange(500, stop , step)\n",
      "\n",
      "#print \"Attempted N sizes = {}\".format(Ns)\n",
      "scores = np.zeros(len(Ns))\n",
      "stds = np.zeros(len(Ns))\n",
      "for i in range(len(Ns)):\n",
      "    N = Ns[i]\n",
      "    ss = cross_validation.StratifiedShuffleSplit(classes, 5, test_size = 1./3., train_size = N)\n",
      "    scores_i = cross_validation.cross_val_score(clf, labeled_svm, classes, cv=ss)\n",
      "    scores[i] = scores_i.mean()\n",
      "    stds[i] = scores_i.std()\n",
      "\n",
      "    \n",
      "# Get our optimal n\n",
      "optimal_n = Ns[np.argmax(scores)]\n",
      "    \n",
      "# Plot our results, including optimal n\n",
      "pl.clf()\n",
      "fig = pl.figure()\n",
      "ax = fig.add_subplot(1,1,1)\n",
      "ax.errorbar (Ns, scores, yerr = stds)\n",
      "ax.set_xlabel(\"N\")\n",
      "ax.set_ylabel(\"Accuracy\")\n",
      "pl.title(\"Optimal: $n={}$\".format(optimal_n))    \n",
      "pl.show()"
     ],
     "language": "python",
     "metadata": {},
     "outputs": [
      {
       "metadata": {},
       "output_type": "display_data",
       "text": [
        "<matplotlib.figure.Figure at 0x7f0c095c4650>"
       ]
      },
      {
       "metadata": {},
       "output_type": "display_data",
       "png": "[encoded data removed]",
       "text": [
        "<matplotlib.figure.Figure at 0x7f0c095c4ed0>"
       ]
      }
     ],
     "prompt_number": 118
    },
    {
     "cell_type": "markdown",
     "metadata": {},
     "source": [
      "# Figure out the optimal C\n",
      "\n",
      "As an exercise, we compute the optimal $C$ scaling parameter for the equation below. We are still using the linear SVC so this is mostly an example of how one would compute this parameter. A graph of the possible $C$ values are displayed as well as the best estimator. \n",
      "\n",
      "$\\min_{\\bf{w}, \\xi, b}\\left\\{\\frac{1}{2}||\\bf{w}||^2 + C\\sum_{i=1}^n\\xi_i\\right\\}$\n",
      "subject to $y_i(\\bf{w\\cdot x}_i-b)\\geq 1-\\xi_i$, $\\xi_i\\geq 0$"
     ]
    },
    {
     "cell_type": "code",
     "collapsed": false,
     "input": [
      "C_range = 10. ** np.arange(-5, 5)\n",
      "param_grid = dict(C=C_range)\n",
      "\n",
      "# We use a test_size of None because we already figured out our optimal train_size\n",
      "ss = cross_validation.StratifiedShuffleSplit(classes, 5, test_size = None, train_size = optimal_n)\n",
      "\n",
      "grid = GridSearchCV(svm.LinearSVC(), param_grid=param_grid, cv=ss)\n",
      "grid.fit (labeled_svm, classes)\n",
      "\n",
      "# plot the scores of the grid grid_scores_ contains parameter settings and scores\n",
      "# grid_scores_ contains parameter settings and scores                                                 \n",
      "score_dict = grid.grid_scores_\n",
      "# We extract just the scores\n",
      "scores = [x[1] for x in score_dict]\n",
      "\n",
      "pl.clf()\n",
      "fig = pl.figure()\n",
      "ax = fig.add_subplot(1,1,1)\n",
      "ax.plot (C_range, scores)\n",
      "ax.set_xscale(\"log\")\n",
      "ax.set_xlabel(\"$C$\")\n",
      "ax.set_ylabel(\"Accuracy\")\n",
      "ax.set_title(\"Optimal: $C={}$\".format(grid.best_estimator_.C))\n",
      "pl.show ()\n",
      "\n",
      "print \"The best classifier is: {}\".format(grid.best_estimator_)"
     ],
     "language": "python",
     "metadata": {},
     "outputs": [
      {
       "metadata": {},
       "output_type": "display_data",
       "text": [
        "<matplotlib.figure.Figure at 0x7f0c095c59d0>"
       ]
      },
      {
       "metadata": {},
       "output_type": "display_data",
       "png": "[encoded data removed]",
       "text": [
        "<matplotlib.figure.Figure at 0x7f0c095c5610>"
       ]
      },
      {
       "output_type": "stream",
       "stream": "stdout",
       "text": [
        "The best classifier is: LinearSVC(C=10.0, class_weight=None, dual=True, fit_intercept=True,\n",
        "     intercept_scaling=1, loss=l2, multi_class=ovr, penalty=l2,\n",
        "     random_state=None, tol=0.0001, verbose=0)\n"
       ]
      }
     ],
     "prompt_number": 119
    },
    {
     "cell_type": "markdown",
     "metadata": {},
     "source": [
      "### Support Vector Classification (SVC)\n",
      "\n",
      "We use the sklean.svm.svc module with a few different kernels to attempt some fits.\n",
      "\n",
      "The equation governing this classification is:\n",
      "\n",
      "$K(\\bf{x}, \\bf{x}') = e^{-\\gamma||\\bf{x}-\\bf{x}'||^2}$\n",
      "   \n",
      "Threfore we need to obatin both $C$ and $\\gamma$, so we test a range of values and create a heat-map to show optimal."
     ]
    },
    {
     "cell_type": "code",
     "collapsed": false,
     "input": [
      "def get_optimal_svc(param_grid=list()):\n",
      "    \n",
      "    # Do the grid search\n",
      "    grid = GridSearchCV(svm.SVC(), param_grid=param_grid, cv=ss)\n",
      "    grid.fit (labeled_svm, classes)\n",
      "    score_dict = grid.grid_scores_\n",
      "\n",
      "    # We extract the scores\n",
      "    scores = [x[1] for x in score_dict]\n",
      "    scores = np.array(scores).reshape(len(C_range), len(gamma_range))\n",
      "\n",
      "    # Make a nice figure\n",
      "    pl.figure(figsize=(8, 6))\n",
      "    pl.subplots_adjust(left=0.15, right=0.95, bottom=0.15, top=0.95)\n",
      "    pl.imshow(scores, interpolation='nearest', cmap=pl.cm.gist_heat)\n",
      "    pl.xlabel('$\\gamma$')\n",
      "    pl.ylabel('$C$')\n",
      "    pl.title('Heatmap for optimal: $C={}$ and $\\gamma={}$\\n'.format(grid.best_estimator_.C, grid.best_estimator_.gamma))\n",
      "    pl.colorbar()\n",
      "    pl.xticks(np.arange(len(gamma_range)), gamma_range, rotation=45)\n",
      "    pl.yticks(np.arange(len(C_range)), C_range)\n",
      "    pl.show()\n",
      "\n",
      "    print \"The best classifier for this run is: {}\".format(grid.best_estimator_)\n",
      "    return grid.best_estimator_"
     ],
     "language": "python",
     "metadata": {},
     "outputs": [],
     "prompt_number": 120
    },
    {
     "cell_type": "markdown",
     "metadata": {},
     "source": [
      "### Determine Best Kernel Classifier\n",
      "\n",
      "Run through the different kernels for an SVC to determine the best. Possible kernels are:\n",
      "    \n",
      "* linear\n",
      "* poly \n",
      "* rbf\n",
      "* sigmoid\n",
      "* precomputed\n",
      "    \n",
      "We perform an exhaustive grid search across all the kernels with a range of different values. We compute these separately so that we can then compare each with an ROC. The grid search would handle this internally if we ran them all together but we want to generate an ROC plot so we do it separate."
     ]
    },
    {
     "cell_type": "markdown",
     "metadata": {},
     "source": [
      "#### Get the optimal SVC\n",
      "\n",
      "Here we define the parameters for each of the kernel types and then run them through an exhaustive grid search. This is similar to the examples above where we ran through a list of $C$ and $\\gamma$ values but here the `GridSearchCV` takes care of all the details. This gets us our optimal classifier based on this exhaustive search."
     ]
    },
    {
     "cell_type": "code",
     "collapsed": false,
     "input": [
      "# Setup our ranges\n",
      "C_range = 10. ** np.arange(-4, 4)\n",
      "gamma_range = 10. ** np.arange(-4, 4)\n",
      "deg_range = np.arange(1, 5)\n",
      "coef_range = 10. ** np.arange(-4, 4)\n",
      "\n",
      "param_grids = [\n",
      "#    { 'C': C_range, 'kernel': ['linear'] },\n",
      "#    { 'C': C_range, 'gamma': gamma_range, 'deg': deg_range, 'coef0': coef_range, 'kernel': ['poly'] },\n",
      "    { 'C': C_range, 'gamma': gamma_range, 'kernel': ['rbf'] },\n",
      "#    { 'C': C_range, 'gamma': gamma_range, 'coef0': coef_range, 'kernel': ['sigmoid'] },\n",
      "]\n",
      "\n",
      "best_svcs = list()\n",
      "\n",
      "# Get the best clf for each kernel type\n",
      "for param_grid in param_grids:\n",
      "    clf = get_optimal_svc(param_grid=param_grid)\n",
      "        \n",
      "    param_grid['clf'] = clf\n",
      "    \n",
      "    best_svcs.append(param_grid)"
     ],
     "language": "python",
     "metadata": {},
     "outputs": [
      {
       "metadata": {},
       "output_type": "display_data",
       "png": "[encoded data removed]",
       "text": [
        "<matplotlib.figure.Figure at 0x7f0c0960fb10>"
       ]
      },
      {
       "output_type": "stream",
       "stream": "stdout",
       "text": [
        "The best classifier for this run is: SVC(C=100.0, cache_size=200, class_weight=None, coef0=0.0, degree=3,\n",
        "  gamma=0.1, kernel=rbf, max_iter=-1, probability=False, random_state=None,\n",
        "  shrinking=True, tol=0.001, verbose=False)\n"
       ]
      }
     ],
     "prompt_number": 121
    },
    {
     "cell_type": "markdown",
     "metadata": {},
     "source": [
      "### Classify\n",
      "\n",
      "We have obtained our best classifiers above, so we classify the data with each. We will then compare how these classifiers worked with a ROC."
     ]
    },
    {
     "cell_type": "code",
     "collapsed": false,
     "input": [
      "def classify(clf=None, save_output=False):\n",
      "\n",
      "    # Use the best estimator from above and fit with our trained data and classes\n",
      "    clf.fit (labeled_svm, classes)\n",
      "\n",
      "    # Attempt a prediction\n",
      "    predicted_classes = clf.predict(unlabeled_svm)\n",
      "\n",
      "    if save_output:\n",
      "        # Creating an array to hold our new predicted values\n",
      "        out = np.zeros ((len(pred_class), unlabeled_svm.shape[1] + 1))\n",
      "        out[:,:unlabeled_svm.shape[1]] = unlabeled_svm[:][:]\n",
      "        out[:, -1] = predicted_classes [:]\n",
      "\n",
      "        # Save our new classifications out to a file\n",
      "        np.savetxt(\"classifications_predicted.csv\", out, delimiter=\",\")\n",
      "    \n",
      "    return predicted_classes"
     ],
     "language": "python",
     "metadata": {},
     "outputs": [],
     "prompt_number": 122
    },
    {
     "cell_type": "code",
     "collapsed": false,
     "input": [
      "def compute_roc(predicted_classes=None):\n",
      "    # Get our mask array of true values\n",
      "    predicted_correct_mask = np.array(unlabeled_classes == predicted_classes)\n",
      "\n",
      "    # Get the scores from the classifier\n",
      "    y_score = clf.decision_function(unlabeled_svm)\n",
      "\n",
      "    # Perform the ROC to get false-positives and true-positives\n",
      "    fpr, tpr, thresh =  metrics.roc_curve(predicted_correct_mask,y_score[:,0])\n",
      "    roc_auc = metrics.auc(fpr,tpr)\n",
      "    \n",
      "    return fpr, tpr, roc_auc"
     ],
     "language": "python",
     "metadata": {},
     "outputs": [],
     "prompt_number": 123
    },
    {
     "cell_type": "code",
     "collapsed": false,
     "input": [
      "# Loop over each SVC type, classify, then compute the ROC\n",
      "for kernel in best_svcs:\n",
      "    clf = kernel.get('clf')\n",
      "\n",
      "    # Do the actual classifying\n",
      "    pred_class = classify(clf)\n",
      "    \n",
      "    # Compute the ROC\n",
      "    fpr, tpr, auc = compute_roc(pred_class)\n",
      "    \n",
      "    kernel['fpr'] = fpr\n",
      "    kernel['tpr'] = tpr\n",
      "    kernel['auc'] = auc    "
     ],
     "language": "python",
     "metadata": {},
     "outputs": [],
     "prompt_number": 124
    },
    {
     "cell_type": "markdown",
     "metadata": {},
     "source": [
      "### ROC Curve\n",
      "Here we determine which classifier was the \"best\" via an ROC Curve"
     ]
    },
    {
     "cell_type": "code",
     "collapsed": false,
     "input": [
      "# Plot the ROC for each kernel type\n",
      "pl.clf()\n",
      "fig = pl.figure()\n",
      "ax = fig.add_subplot(1,1,1)\n",
      "\n",
      "# Add a line for each kernel\n",
      "for kernel in best_svcs:\n",
      "    fpr = kernel['fpr']\n",
      "    tpr = kernel['tpr']\n",
      "    auc = kernel['auc']\n",
      "    ax.plot (fpr, tpr, label='{} (area = {:0.2f})'.format(kernel.get('kernel')[0], auc))\n",
      "\n",
      "\n",
      "plt.legend(loc=4)\n",
      "plt.xlabel('False Positive Rate')\n",
      "plt.ylabel('True Positive Rate')\n",
      "plt.title('Receiver Operating Characteristic Curve')\n",
      "pl.show ()"
     ],
     "language": "python",
     "metadata": {},
     "outputs": [
      {
       "metadata": {},
       "output_type": "display_data",
       "text": [
        "<matplotlib.figure.Figure at 0x7f0c61147f10>"
       ]
      },
      {
       "metadata": {},
       "output_type": "display_data",
       "png": "[encoded data removed]",
       "text": [
        "<matplotlib.figure.Figure at 0x7f0c611472d0>"
       ]
      }
     ],
     "prompt_number": 125
    },
    {
     "cell_type": "markdown",
     "metadata": {},
     "source": [
      "Show some stats on the estimator with the best fit"
     ]
    },
    {
     "cell_type": "code",
     "collapsed": false,
     "input": [
      "diff_index = np.where(pred_class != unlabeled_classes)\n",
      "\n",
      "length_of_diff = len(diff_index[0])\n",
      "length_of_unlabeled = len(unlabeled_classes)\n",
      "\n",
      "diff_percentage = 1 - (float(length_of_diff)/float(length_of_unlabeled))\n",
      "\n",
      "print \"{:.2%}\".format(diff_percentage)"
     ],
     "language": "python",
     "metadata": {},
     "outputs": [
      {
       "output_type": "stream",
       "stream": "stdout",
       "text": [
        "95.38%\n"
       ]
      }
     ],
     "prompt_number": 126
    },
    {
     "cell_type": "code",
     "collapsed": false,
     "input": [
      "# Put the predicted class into the original data\n",
      "test_all[:,2] = pred_class"
     ],
     "language": "python",
     "metadata": {},
     "outputs": [],
     "prompt_number": 129
    },
    {
     "cell_type": "code",
     "collapsed": false,
     "input": [
      "np.savetxt(')"
     ],
     "language": "python",
     "metadata": {},
     "outputs": [
      {
       "metadata": {},
       "output_type": "pyout",
       "prompt_number": 128,
       "text": [
        "array([  1.13501406e+12,   1.00000000e+00,   1.00000000e+00,\n",
        "         4.43918500e+01,   3.55899900e+01,   2.91636000e-01,\n",
        "         1.78800000e+01,   1.79300000e+01,   4.70000000e-01,\n",
        "         1.10222752e-01,   3.22500000e-01])"
       ]
      }
     ],
     "prompt_number": 128
    }
   ],
   "metadata": {}
  }
 ]
}