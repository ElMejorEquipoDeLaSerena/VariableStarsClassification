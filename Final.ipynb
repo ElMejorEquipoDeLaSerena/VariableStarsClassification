{
 "metadata": {
  "name": "",
  "signature": "sha256:1b437f6603173d3f56085f3a257d36edd1314f433c8d840739401c80715a861e"
 },
 "nbformat": 3,
 "nbformat_minor": 0,
 "worksheets": [
  {
   "cells": [
    {
     "cell_type": "code",
     "collapsed": false,
     "input": [
      "import numpy as np\n",
      "import urllib\n",
      "import matplotlib.pyplot as plt\n",
      "import sys\n",
      "import pylab as pl\n",
      "from sklearn import svm\n",
      "from sklearn import svm, cross_validation\n",
      "import scipy.stats as stats\n",
      "\n",
      "%matplotlib inline"
     ],
     "language": "python",
     "metadata": {},
     "outputs": [],
     "prompt_number": 121
    },
    {
     "cell_type": "markdown",
     "metadata": {},
     "source": [
      "# Load Data"
     ]
    },
    {
     "cell_type": "code",
     "collapsed": false,
     "input": [
      "# Load our matched data from the catalog\n",
      "cat_data = 'catalog_data_final/matched_data.csv'\n",
      "catalog = np.genfromtxt(cat_data, dtype=None, names=True, delimiter=',')"
     ],
     "language": "python",
     "metadata": {},
     "outputs": [],
     "prompt_number": 8
    },
    {
     "cell_type": "code",
     "collapsed": false,
     "input": [
      "# Save the catalog to a numpy format\n",
      "#np.savetxt('final_catalog.txt', catalog)"
     ],
     "language": "python",
     "metadata": {},
     "outputs": [],
     "prompt_number": 3
    },
    {
     "cell_type": "markdown",
     "metadata": {},
     "source": [
      "# Setup our Features"
     ]
    },
    {
     "cell_type": "code",
     "collapsed": false,
     "input": [
      "def get_irq(rows):\n",
      "    mags = rows['Mag']\n",
      "    return np.percentile(mags, 75) - np.percentile(mags, 25)\n",
      "\n",
      "def get_skew(rows):\n",
      "    skew = stats.skew(rows['Mag'])    \n",
      "    return skew\n",
      "\n",
      "def get_median(rows):\n",
      "    return np.median(rows['Mag'])"
     ],
     "language": "python",
     "metadata": {},
     "outputs": [],
     "prompt_number": 169
    },
    {
     "cell_type": "code",
     "collapsed": false,
     "input": [
      "catalog.dtype"
     ],
     "language": "python",
     "metadata": {},
     "outputs": [
      {
       "metadata": {},
       "output_type": "pyout",
       "prompt_number": 122,
       "text": [
        "dtype([('InputID', 'S19'), ('ID', '<i8'), ('Mag', '<f8'), ('Magerr', '<f8'), ('RA', '<f8'), ('Decl', '<f8'), ('MJD', '<f8'), ('Blend', '<i8'), ('Catalina_Surveys_ID', 'S20'), ('Numerical_ID', '<i8'), ('RA_J2000', 'S11'), ('Dec', 'S11'), ('V_mag', '<f8'), ('Period_days', '<f8'), ('Amplitude', '<f8'), ('Number_Obs', '<i8'), ('Var_Type', '<i8'), ('epoch_folding', '<f8')])"
       ]
      }
     ],
     "prompt_number": 122
    },
    {
     "cell_type": "code",
     "collapsed": false,
     "input": [
      "#features = np.loadtxt('features.txt', dtype=None, delimiter=\",\")"
     ],
     "language": "python",
     "metadata": {},
     "outputs": [],
     "prompt_number": 123
    },
    {
     "cell_type": "code",
     "collapsed": false,
     "input": [
      "# Calculate more features\n",
      "# median, IQR, skewness, median of bins\n",
      "\n",
      "obj_id_array = np.unique(catalog['ID'])\n",
      "\n",
      "features = np.zeros(( len(obj_id_array), 8 ))\n",
      "\n",
      "# For each object\n",
      "for i in range(len(np.unique(catalog['ID']))):\n",
      "    obj_id = obj_id_array[i]\n",
      "    \n",
      "    rows = catalog[(catalog['ID'] == obj_id)]\n",
      "     \n",
      "    #if rows['Var_Type'][0] == 3:\n",
      "        #continue\n",
      "        \n",
      "    #if i > 500:\n",
      "    #    break\n",
      "        \n",
      "    features[i,0] = obj_id # Object ID\n",
      "    features[i,1] = rows['Var_Type'][0] # Class\n",
      "    features[i,2] = rows['Period_days'][0]  # Period\n",
      "    features[i,3] = rows['Mag'][0]  # Mag\n",
      "    features[i,4] = get_median(rows)  # Median\n",
      "    features[i,5] = rows['Amplitude'][0]  # Amplitude\n",
      "    features[i,6] = get_skew(rows)  # Skew\n",
      "    features[i,7] = get_irq(rows)  # IQR"
     ],
     "language": "python",
     "metadata": {},
     "outputs": [],
     "prompt_number": 221
    },
    {
     "cell_type": "code",
     "collapsed": false,
     "input": [
      "np.savetxt('features.txt', features, delimiter=',')"
     ],
     "language": "python",
     "metadata": {},
     "outputs": [],
     "prompt_number": 285
    },
    {
     "cell_type": "code",
     "collapsed": false,
     "input": [
      "# Pull out certain features so we can work with them separately\n",
      "data = catalog\n",
      "\n",
      "start = 0\n",
      "end = len(features) - int(.25 * len(features))\n",
      "\n",
      "data_svm = features[start:end,2:]\n",
      "classes = features[start:end,1]\n",
      "\n",
      "#classes, mag, v_mag, blend, amplitude, period, epoch_folding = data['Var_Type'], data['Mag'], data[\"V_mag\"], data['Blend'], data['Amplitude'], data['Period_days'], data['epoch_folding']"
     ],
     "language": "python",
     "metadata": {},
     "outputs": [],
     "prompt_number": 244
    },
    {
     "cell_type": "code",
     "collapsed": false,
     "input": [
      "# How many of each Variable Type do we have\n",
      "for x in range(1,4):\n",
      "    print(\"Class size: {} {}\".format(x,len(classes[classes == x])))"
     ],
     "language": "python",
     "metadata": {},
     "outputs": [
      {
       "output_type": "stream",
       "stream": "stdout",
       "text": [
        "Class size: 1 2888\n",
        "Class size: 2 450\n",
        "Class size: 3 37\n"
       ]
      }
     ],
     "prompt_number": 245
    },
    {
     "cell_type": "markdown",
     "metadata": {},
     "source": [
      "# Figure out what training size is optimal"
     ]
    },
    {
     "cell_type": "markdown",
     "metadata": {},
     "source": [
      "Here we use a set Test size but are trying to determine the optimal size for our training set. We loop over a number of sizes and determine the accuracy from each."
     ]
    },
    {
     "cell_type": "code",
     "collapsed": false,
     "input": [
      "#data_svm = np.array(features).transpose()\n",
      "clf = svm.LinearSVC()\n",
      "clf.fit(data_svm, classes)"
     ],
     "language": "python",
     "metadata": {},
     "outputs": [
      {
       "metadata": {},
       "output_type": "pyout",
       "prompt_number": 247,
       "text": [
        "LinearSVC(C=1.0, class_weight=None, dual=True, fit_intercept=True,\n",
        "     intercept_scaling=1, loss='l2', multi_class='ovr', penalty='l2',\n",
        "     random_state=None, tol=0.0001, verbose=0)"
       ]
      }
     ],
     "prompt_number": 247
    },
    {
     "cell_type": "code",
     "collapsed": false,
     "input": [
      "from sklearn import svm, cross_validation\n",
      "\n",
      "X_train, X_test, y_train, y_test = cross_validation.train_test_split (data_svm, classes, test_size=1./3.)\n",
      "print(\"training set = {} {}\".format(X_train.shape, y_train.shape))\n",
      "print(\"test size = {} {}\".format(X_test.shape, y_test.shape))\n",
      "\n",
      "clf.fit(X_train, y_train)\n",
      "pred_class = clf.predict(X_test)\n",
      "N_match = (pred_class == y_test).sum()\n",
      "print(\"N_match = {}\".format(N_match))\n",
      "acc = 1. * N_match / len(pred_class)\n",
      "print(\"Accuracy = {}\".format(acc))"
     ],
     "language": "python",
     "metadata": {},
     "outputs": [
      {
       "output_type": "stream",
       "stream": "stdout",
       "text": [
        "training set = (2250, 6) (2250,)\n",
        "test size = (1125, 6) (1125,)\n",
        "N_match = 1025"
       ]
      },
      {
       "output_type": "stream",
       "stream": "stdout",
       "text": [
        "\n",
        "Accuracy = 0.9111111111111111\n"
       ]
      }
     ],
     "prompt_number": 252
    },
    {
     "cell_type": "code",
     "collapsed": false,
     "input": [
      "ss = cross_validation.StratifiedShuffleSplit(classes, 5, test_size = 1./3.)\n",
      "scores = cross_validation.cross_val_score(clf, data_svm, classes, cv=ss)\n",
      "print(\"Accuracy = {} +- {}\".format(scores.mean(),scores.std()))"
     ],
     "language": "python",
     "metadata": {},
     "outputs": [
      {
       "output_type": "stream",
       "stream": "stdout",
       "text": [
        "Accuracy = 0.9185777777777778 +- 0.010206364511578527\n"
       ]
      }
     ],
     "prompt_number": 253
    },
    {
     "cell_type": "markdown",
     "metadata": {},
     "source": [
      "### See if there is a better training size that we can use"
     ]
    },
    {
     "cell_type": "code",
     "collapsed": false,
     "input": [
      "N_test = 250\n",
      "Ns = 2**np.arange(5, 12)\n",
      "print(\"Ns = {}\".format(Ns))\n",
      "scores = np.zeros(len(Ns))\n",
      "stds = np.zeros(len(Ns))\n",
      "for i in range(len(Ns)):\n",
      "    N = Ns[i]\n",
      "    ss = cross_validation.StratifiedShuffleSplit(classes, 5, test_size = N_test, train_size = N)\n",
      "    scores_i = cross_validation.cross_val_score(clf, data_svm, classes, cv=ss)\n",
      "    scores[i] = scores_i.mean()\n",
      "    stds[i] = scores_i.std()\n",
      "\n",
      "pl.clf()\n",
      "fig = pl.figure()\n",
      "ax = fig.add_subplot(1,1,1)\n",
      "ax.errorbar (Ns, scores, yerr = stds)\n",
      "ax.set_xscale(\"log\")\n",
      "ax.set_xlabel(\"N\")\n",
      "ax.set_ylabel(\"Accuracy\")\n",
      "pl.show()"
     ],
     "language": "python",
     "metadata": {},
     "outputs": [
      {
       "output_type": "stream",
       "stream": "stdout",
       "text": [
        "Ns = [  32   64  128  256  512 1024 2048]\n"
       ]
      },
      {
       "metadata": {},
       "output_type": "display_data",
       "text": [
        "<matplotlib.figure.Figure at 0x7ff55851d710>"
       ]
      },
      {
       "metadata": {},
       "output_type": "display_data",
       "png": "[encoded data removed]",
       "text": [
        "<matplotlib.figure.Figure at 0x7ff5515ee320>"
       ]
      }
     ],
     "prompt_number": 258
    },
    {
     "cell_type": "code",
     "collapsed": false,
     "input": [
      "optimal_n = Ns[np.argmax(scores)]"
     ],
     "language": "python",
     "metadata": {},
     "outputs": [],
     "prompt_number": 259
    },
    {
     "cell_type": "markdown",
     "metadata": {},
     "source": [
      "# Figure out the optimal C"
     ]
    },
    {
     "cell_type": "code",
     "collapsed": false,
     "input": [
      "from sklearn.grid_search import GridSearchCV\n",
      "\n",
      "N_train = optimal_n\n",
      "#N_test = optimal_n\n",
      "\n",
      "C_range = 10. ** np.arange(-5, 5)\n",
      "param_grid = dict(C=C_range)\n",
      "ss = cross_validation.StratifiedShuffleSplit(classes, 5, test_size = N_test, train_size = N_train)\n",
      "grid = GridSearchCV(svm.LinearSVC(), param_grid=param_grid, cv=ss)\n",
      "grid.fit (data_svm, classes)\n",
      "print(\"The best classifier is: {}\".format(grid.best_estimator_))\n",
      "\n",
      "# plot the scores of the grid grid_scores_ contains parameter settings and scores\n",
      "# grid_scores_ contains parameter settings and scores                                                 \n",
      "score_dict = grid.grid_scores_\n",
      "# We extract just the scores\n",
      "scores = [x[1] for x in score_dict]\n",
      "\n",
      "pl.clf()\n",
      "fig = pl.figure()\n",
      "ax = fig.add_subplot(1,1,1)\n",
      "ax.plot (C_range, scores)\n",
      "ax.set_xscale(\"log\")\n",
      "ax.set_xlabel(\"C\")\n",
      "ax.set_ylabel(\"Accuracy\")\n",
      "pl.show ()"
     ],
     "language": "python",
     "metadata": {},
     "outputs": [
      {
       "output_type": "stream",
       "stream": "stdout",
       "text": [
        "The best classifier is: LinearSVC(C=10.0, class_weight=None, dual=True, fit_intercept=True,\n",
        "     intercept_scaling=1, loss='l2', multi_class='ovr', penalty='l2',\n",
        "     random_state=None, tol=0.0001, verbose=0)\n"
       ]
      },
      {
       "metadata": {},
       "output_type": "display_data",
       "text": [
        "<matplotlib.figure.Figure at 0x7ff5aaa63748>"
       ]
      },
      {
       "metadata": {},
       "output_type": "display_data",
       "png": "[encoded data removed]",
       "text": [
        "<matplotlib.figure.Figure at 0x7ff5aaa635c0>"
       ]
      }
     ],
     "prompt_number": 260
    },
    {
     "cell_type": "markdown",
     "metadata": {},
     "source": [
      "### RBF Kernel"
     ]
    },
    {
     "cell_type": "code",
     "collapsed": false,
     "input": [
      "C_range = 10. ** np.arange(-4, 4)\n",
      "gamma_range = 10. ** np.arange(-4, 4)\n",
      "param_grid = dict(gamma=gamma_range, C=C_range)\n",
      "grid = GridSearchCV(svm.SVC(kernel = \"rbf\"), param_grid=param_grid, cv=ss)\n",
      "grid.fit (data_svm, classes)\n",
      "print(\"The best classifier is: {}\".format(grid.best_estimator_))\n",
      "score_dict = grid.grid_scores_\n",
      "\n",
      "# We extract the scores\n",
      "scores = [x[1] for x in score_dict]\n",
      "print(np.array(scores).shape)\n",
      "scores = np.array(scores).reshape(len(C_range), len(gamma_range))\n",
      "\n",
      "# Make a nice figure\n",
      "pl.figure(figsize=(8, 6))\n",
      "pl.subplots_adjust(left=0.15, right=0.95, bottom=0.15, top=0.95)\n",
      "pl.imshow(scores, interpolation='nearest', cmap=pl.cm.gist_heat)\n",
      "pl.xlabel('gamma')\n",
      "pl.ylabel('C')\n",
      "pl.colorbar()\n",
      "pl.xticks(np.arange(len(gamma_range)), gamma_range, rotation=45)\n",
      "pl.yticks(np.arange(len(C_range)), C_range)\n",
      "pl.show()"
     ],
     "language": "python",
     "metadata": {},
     "outputs": [
      {
       "output_type": "stream",
       "stream": "stdout",
       "text": [
        "The best classifier is: SVC(C=1000.0, cache_size=200, class_weight=None, coef0=0.0, degree=3,\n",
        "  gamma=0.01, kernel='rbf', max_iter=-1, probability=False,\n",
        "  random_state=None, shrinking=True, tol=0.001, verbose=False)\n",
        "(64,)\n"
       ]
      },
      {
       "metadata": {},
       "output_type": "display_data",
       "png": "[encoded data removed]",
       "text": [
        "<matplotlib.figure.Figure at 0x7ff5aac8e128>"
       ]
      }
     ],
     "prompt_number": 262
    },
    {
     "cell_type": "markdown",
     "metadata": {},
     "source": [
      "### Test on unlabeled data"
     ]
    },
    {
     "cell_type": "code",
     "collapsed": false,
     "input": [
      "#train on all the data\n",
      "\n",
      "#clf = svm.SVC (kernel = \"rbf\", C = 10., gamma = 10.)\n",
      "clf = grid.best_estimator_\n",
      "clf.fit (data_svm, classes)\n",
      "\n",
      "# load unlabeled data\n",
      "#data_ul = np.genfromtxt(\"features.txt\", delimiter=',', skip_header = 1)\n",
      "\n",
      "#classes, mag, v_mag, blend, amplitude, period, epoch_folding = data['Var_Type'], data['Mag'], data[\"V_mag\"], data['Blend'], data['Amplitude'], data['Period_days'], data['epoch_folding']\n",
      "\n",
      "#u, g, r, i, z = data_ul[:, 0], data_ul[:, 1], data_ul[:, 2], data_ul[:, 3], data_ul[:, 4]\n",
      "#colors_ul = u - g, g - r, r - i, i - z\n",
      "#data_ul = np.array(colors_ul).transpose()\n",
      "data_ul = features[:,2:]\n",
      "print(\"new data-set size = {}\".format(data_ul.shape))\n",
      "\n",
      "# predict\n",
      "pred_class = clf.predict(data_ul)\n",
      "\n",
      "out = np.zeros ((len(pred_class), data_ul.shape[1] + 1))\n",
      "out[:,:data_ul.shape[1]] = data_ul[:][:]\n",
      "out[:, -1] = pred_class [:]\n",
      "np.savetxt(\"classifications.csv\", out, delimiter=\",\")"
     ],
     "language": "python",
     "metadata": {},
     "outputs": [
      {
       "output_type": "stream",
       "stream": "stdout",
       "text": [
        "new data-set size = (4500, 6)\n"
       ]
      }
     ],
     "prompt_number": 271
    },
    {
     "cell_type": "code",
     "collapsed": false,
     "input": [
      "diff_index = np.where(pred_class != features[:,1])\n",
      "print(\"True Positive: {:%}\".format(1 - len(diff_index[0]) / len(features)))"
     ],
     "language": "python",
     "metadata": {},
     "outputs": [
      {
       "output_type": "stream",
       "stream": "stdout",
       "text": [
        "True Positive: 94.955556%\n"
       ]
      }
     ],
     "prompt_number": 284
    }
   ],
   "metadata": {}
  }
 ]
}