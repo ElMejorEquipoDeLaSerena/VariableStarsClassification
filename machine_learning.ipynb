{
 "metadata": {
  "name": "",
  "signature": "sha256:6fb018e074b374521f82c28e9d71700c1bb45967649107d89aa24d847f1db004"
 },
 "nbformat": 3,
 "nbformat_minor": 0,
 "worksheets": [
  {
   "cells": [
    {
     "cell_type": "code",
     "collapsed": false,
     "input": [
      "import numpy as np\n",
      "import urllib\n",
      "import matplotlib.pyplot as plt\n",
      "\n",
      "%pylab inline"
     ],
     "language": "python",
     "metadata": {},
     "outputs": [
      {
       "output_type": "stream",
       "stream": "stdout",
       "text": [
        "Populating the interactive namespace from numpy and matplotlib\n"
       ]
      }
     ],
     "prompt_number": 3
    },
    {
     "cell_type": "code",
     "collapsed": false,
     "input": [
      "# Fetch the catalog list from the Catalina Servers\n",
      "cat_data = 'CatalinaVars.tbl'\n",
      "catalog = np.genfromtxt(cat_data, dtype=None, names=True)\n",
      "\n",
      "# Get only the Variable Types we are interested in\n",
      "# See http://nesssi.cacr.caltech.edu/DataRelease/Varcat.html\n",
      "binary_catalog = catalog[(catalog['Var_Type'] <= 3)]"
     ],
     "language": "python",
     "metadata": {},
     "outputs": [],
     "prompt_number": 5
    },
    {
     "cell_type": "code",
     "collapsed": false,
     "input": [
      "# Fetch the time series information\n",
      "time_data='catalog_data_final/000000.csv'\n",
      "time_catalog = np.genfromtxt(time_data, dtype=None, names=True, delimiter=\",\")"
     ],
     "language": "python",
     "metadata": {},
     "outputs": []
    },
    {
     "cell_type": "code",
     "collapsed": false,
     "input": [
      "# Epoch folding\n",
      "\n",
      "Mag = star1[\"Mag\"]\n",
      "MJD = star1[\"MJD\"]\n",
      "T = 0.404185\n",
      "\n",
      "#time=((MJD)/T)%MJD\n",
      "time=(MJD%T)/T\n",
      "index=sorted(range(len(time)), key=lambda k: time[k])\n",
      "\n",
      "Mag_new=Mag[index]\n",
      "\n",
      "double_mag = np.array(list(Mag_new)*2)\n",
      "x = [float(x)/len(Mag_new)for x in arange(0,len(double_mag))]\n",
      "\n",
      "\n",
      "\n",
      "\n",
      "plt.scatter(x, double_mag, alpha=0.25)\n",
      "\n",
      "plt.ylim(double_mag.max(), double_mag.min())\n",
      "plt.xlim(0.0,2.0)"
     ],
     "language": "python",
     "metadata": {},
     "outputs": []
    }
   ],
   "metadata": {}
  }
 ]
}