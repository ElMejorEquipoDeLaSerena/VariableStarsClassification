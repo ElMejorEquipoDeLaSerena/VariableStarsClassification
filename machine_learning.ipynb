{
 "metadata": {
  "name": "",
  "signature": "sha256:cec8220e615fba0bc13d5b3c5843fa5969624f2a4412a0d2308f26481b3218f1"
 },
 "nbformat": 3,
 "nbformat_minor": 0,
 "worksheets": [
  {
   "cells": [
    {
     "cell_type": "code",
     "collapsed": false,
     "input": [
      "import numpy as np\n",
      "import urllib\n",
      "import matplotlib.pyplot as plt\n",
      "\n",
      "%pylab inline"
     ],
     "language": "python",
     "metadata": {},
     "outputs": [
      {
       "output_type": "stream",
       "stream": "stdout",
       "text": [
        "Populating the interactive namespace from numpy and matplotlib\n"
       ]
      }
     ],
     "prompt_number": 1
    },
    {
     "cell_type": "code",
     "collapsed": false,
     "input": [
      "# Fetch the catalog list from the Catalina Servers\n",
      "cat_data = 'CatalinaVars.tbl'\n",
      "catalog = np.genfromtxt(cat_data, dtype=None, names=True)\n",
      "\n",
      "# Get only the Variable Types we are interested in\n",
      "# See http://nesssi.cacr.caltech.edu/DataRelease/Varcat.html\n",
      "binary_catalog = catalog[(catalog['Var_Type'] <= 3)]"
     ],
     "language": "python",
     "metadata": {},
     "outputs": [],
     "prompt_number": 2
    },
    {
     "cell_type": "code",
     "collapsed": false,
     "input": [
      "# Fetch the time series information\n",
      "time_data='catalog_data_final/000000.csv'\n",
      "time_catalog = np.genfromtxt(time_data, dtype=None, names=True, delimiter=\",\")"
     ],
     "language": "python",
     "metadata": {},
     "outputs": [],
     "prompt_number": 3
    },
    {
     "cell_type": "code",
     "collapsed": false,
     "input": [
      "time_catalog"
     ],
     "language": "python",
     "metadata": {},
     "outputs": [
      {
       "metadata": {},
       "output_type": "pyout",
       "prompt_number": 7,
       "text": [
        "array([ (b'CSSJ000020.4+103118', 1109001041232, 14.53, 0.06, 0.08478, 10.52208, 53706.21714, 0),\n",
        "       (b'CSSJ000020.4+103118', 1109001041232, 14.53, 0.06, 0.08482, 10.52207, 53706.22733, 0),\n",
        "       (b'CSSJ000020.4+103118', 1109001041232, 14.51, 0.06, 0.08478, 10.52207, 53706.23782, 0),\n",
        "       ...,\n",
        "       (b'CSSJ001949.5+163914', 1115002053224, 13.82, 0.05, 4.95636, 16.6541, 56593.183, 0),\n",
        "       (b'CSSJ001949.5+163914', 1115002053224, 13.83, 0.05, 4.95636, 16.65409, 56593.18804, 0),\n",
        "       (b'CSSJ001949.5+163914', 1115002053224, 13.86, 0.05, 4.95637, 16.6541, 56593.19308, 0)], \n",
        "      dtype=[('InputID', 'S19'), ('ID', '<i8'), ('Mag', '<f8'), ('Magerr', '<f8'), ('RA', '<f8'), ('Decl', '<f8'), ('MJD', '<f8'), ('Blend', '<i8')])"
       ]
      }
     ],
     "prompt_number": 7
    },
    {
     "cell_type": "code",
     "collapsed": false,
     "input": [],
     "language": "python",
     "metadata": {},
     "outputs": []
    },
    {
     "cell_type": "code",
     "collapsed": false,
     "input": [
      "final_data = np.append(time_catalog, binary_catalog[:])"
     ],
     "language": "python",
     "metadata": {},
     "outputs": [
      {
       "ename": "TypeError",
       "evalue": "invalid type promotion",
       "output_type": "pyerr",
       "traceback": [
        "\u001b[1;31m---------------------------------------------------------------------------\u001b[0m\n\u001b[1;31mTypeError\u001b[0m                                 Traceback (most recent call last)",
        "\u001b[1;32m<ipython-input-30-d6114b283da8>\u001b[0m in \u001b[0;36m<module>\u001b[1;34m()\u001b[0m\n\u001b[1;32m----> 1\u001b[1;33m \u001b[0mfinal_data\u001b[0m \u001b[1;33m=\u001b[0m \u001b[0mnp\u001b[0m\u001b[1;33m.\u001b[0m\u001b[0mappend\u001b[0m\u001b[1;33m(\u001b[0m\u001b[0mtime_catalog\u001b[0m\u001b[1;33m,\u001b[0m \u001b[0mbinary_catalog\u001b[0m\u001b[1;33m[\u001b[0m\u001b[1;33m:\u001b[0m\u001b[1;33m]\u001b[0m\u001b[1;33m)\u001b[0m\u001b[1;33m\u001b[0m\u001b[0m\n\u001b[0m",
        "\u001b[1;32m/home/wtgee/anaconda3/lib/python3.4/site-packages/numpy/lib/function_base.py\u001b[0m in \u001b[0;36mappend\u001b[1;34m(arr, values, axis)\u001b[0m\n\u001b[0;32m   3553\u001b[0m         \u001b[0mvalues\u001b[0m \u001b[1;33m=\u001b[0m \u001b[0mravel\u001b[0m\u001b[1;33m(\u001b[0m\u001b[0mvalues\u001b[0m\u001b[1;33m)\u001b[0m\u001b[1;33m\u001b[0m\u001b[0m\n\u001b[0;32m   3554\u001b[0m         \u001b[0maxis\u001b[0m \u001b[1;33m=\u001b[0m \u001b[0marr\u001b[0m\u001b[1;33m.\u001b[0m\u001b[0mndim\u001b[0m\u001b[1;33m-\u001b[0m\u001b[1;36m1\u001b[0m\u001b[1;33m\u001b[0m\u001b[0m\n\u001b[1;32m-> 3555\u001b[1;33m     \u001b[1;32mreturn\u001b[0m \u001b[0mconcatenate\u001b[0m\u001b[1;33m(\u001b[0m\u001b[1;33m(\u001b[0m\u001b[0marr\u001b[0m\u001b[1;33m,\u001b[0m \u001b[0mvalues\u001b[0m\u001b[1;33m)\u001b[0m\u001b[1;33m,\u001b[0m \u001b[0maxis\u001b[0m\u001b[1;33m=\u001b[0m\u001b[0maxis\u001b[0m\u001b[1;33m)\u001b[0m\u001b[1;33m\u001b[0m\u001b[0m\n\u001b[0m",
        "\u001b[1;31mTypeError\u001b[0m: invalid type promotion"
       ]
      }
     ],
     "prompt_number": 30
    },
    {
     "cell_type": "code",
     "collapsed": false,
     "input": [
      "\n",
      "# Epoch folding\n",
      "Mag = star1[\"Mag\"]\n",
      "MJD = star1[\"MJD\"]\n",
      "T = 0.404185\n",
      "\n",
      "#time=((MJD)/T)%MJD\n",
      "time=(MJD%T)/T\n",
      "index=sorted(range(len(time)), key=lambda k: time[k])\n",
      "\n",
      "Mag_new=Mag[index]\n",
      "\n",
      "double_mag = np.array(list(Mag_new)*2)\n",
      "x = [float(x)/len(Mag_new)for x in arange(0,len(double_mag))]\n",
      "\n",
      "\n",
      "\n",
      "\n",
      "plt.scatter(x, double_mag, alpha=0.25)\n",
      "\n",
      "plt.ylim(double_mag.max(), double_mag.min())\n",
      "plt.xlim(0.0,2.0)"
     ],
     "language": "python",
     "metadata": {},
     "outputs": [
      {
       "ename": "NameError",
       "evalue": "name 'star1' is not defined",
       "output_type": "pyerr",
       "traceback": [
        "\u001b[1;31m---------------------------------------------------------------------------\u001b[0m\n\u001b[1;31mNameError\u001b[0m                                 Traceback (most recent call last)",
        "\u001b[1;32m<ipython-input-5-58f50abd2657>\u001b[0m in \u001b[0;36m<module>\u001b[1;34m()\u001b[0m\n\u001b[0;32m      1\u001b[0m \u001b[1;31m# Epoch folding\u001b[0m\u001b[1;33m\u001b[0m\u001b[1;33m\u001b[0m\u001b[0m\n\u001b[0;32m      2\u001b[0m \u001b[1;33m\u001b[0m\u001b[0m\n\u001b[1;32m----> 3\u001b[1;33m \u001b[0mMag\u001b[0m \u001b[1;33m=\u001b[0m \u001b[0mstar1\u001b[0m\u001b[1;33m[\u001b[0m\u001b[1;34m\"Mag\"\u001b[0m\u001b[1;33m]\u001b[0m\u001b[1;33m\u001b[0m\u001b[0m\n\u001b[0m\u001b[0;32m      4\u001b[0m \u001b[0mMJD\u001b[0m \u001b[1;33m=\u001b[0m \u001b[0mstar1\u001b[0m\u001b[1;33m[\u001b[0m\u001b[1;34m\"MJD\"\u001b[0m\u001b[1;33m]\u001b[0m\u001b[1;33m\u001b[0m\u001b[0m\n\u001b[0;32m      5\u001b[0m \u001b[0mT\u001b[0m \u001b[1;33m=\u001b[0m \u001b[1;36m0.404185\u001b[0m\u001b[1;33m\u001b[0m\u001b[0m\n",
        "\u001b[1;31mNameError\u001b[0m: name 'star1' is not defined"
       ]
      }
     ],
     "prompt_number": 5
    },
    {
     "cell_type": "code",
     "collapsed": false,
     "input": [],
     "language": "python",
     "metadata": {},
     "outputs": []
    }
   ],
   "metadata": {}
  }
 ]
}