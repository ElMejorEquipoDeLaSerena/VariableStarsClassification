{
 "metadata": {
  "name": "",
  "signature": "sha256:2191858c2ef2710bf323a9ae304eaf48e6f219c09a86488298c9ea499fbd7b01"
 },
 "nbformat": 3,
 "nbformat_minor": 0,
 "worksheets": [
  {
   "cells": [
    {
     "cell_type": "code",
     "collapsed": false,
     "input": [],
     "language": "python",
     "metadata": {},
     "outputs": []
    },
    {
     "cell_type": "code",
     "collapsed": false,
     "input": [
      "\n",
      "filename='catalog_data/000000.csv'\n",
      "\n",
      "\n",
      "catalog = np.genfromtxt(cat_data, dtype=None, names=True)\n"
     ],
     "language": "python",
     "metadata": {},
     "outputs": []
    }
   ],
   "metadata": {}
  }
 ]
}