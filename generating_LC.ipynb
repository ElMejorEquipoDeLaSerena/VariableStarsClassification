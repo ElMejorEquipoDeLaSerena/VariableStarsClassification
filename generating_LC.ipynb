{
 "metadata": {
  "name": "",
  "signature": "sha256:7f696a57b4962d8390c342535b2b6c66b689b3921d421511a53c3ee945d7ab65"
 },
 "nbformat": 3,
 "nbformat_minor": 0,
 "worksheets": [
  {
   "cells": [
    {
     "cell_type": "code",
     "collapsed": false,
     "input": [
      "import numpy as np\n",
      "import urllib\n",
      "import matplotlib.pyplot as plt\n",
      "\n",
      "%pylab inline"
     ],
     "language": "python",
     "metadata": {},
     "outputs": [
      {
       "output_type": "stream",
       "stream": "stdout",
       "text": [
        "Populating the interactive namespace from numpy and matplotlib\n"
       ]
      }
     ],
     "prompt_number": 71
    },
    {
     "cell_type": "code",
     "collapsed": false,
     "input": [
      "# Fetch the catalog list from the Catalina Servers\n",
      "cat_url = 'http://nesssi.cacr.caltech.edu/DataRelease/CatalinaVars.tbl'\n",
      "cat_data = urllib.urlopen(cat_url)\n",
      "catalog = np.genfromtxt(cat_data, dtype=None, names=True)\n",
      "\n",
      "# Get only the Variable Types we are interested in\n",
      "# See http://nesssi.cacr.caltech.edu/DataRelease/Varcat.html\n",
      "binary_catalog = catalog[(catalog['Var_Type'] <= 3)]"
     ],
     "language": "python",
     "metadata": {},
     "outputs": []
    },
    {
     "cell_type": "code",
     "collapsed": false,
     "input": [
      "# Fetch the time series information\n",
      "\n",
      "data='catalog_data_final/000000.csv'\n",
      "\n",
      "data_fullcatalog = np.genfromtxt(data, dtype=None, names=True, delimiter=\",\")\n"
     ],
     "language": "python",
     "metadata": {},
     "outputs": [],
     "prompt_number": 28
    },
    {
     "cell_type": "code",
     "collapsed": false,
     "input": [
      "data_fullcatalog"
     ],
     "language": "python",
     "metadata": {},
     "outputs": [
      {
       "metadata": {},
       "output_type": "pyout",
       "prompt_number": 29,
       "text": [
        "array([ ('CSSJ000020.4+103118', 1109001041232, 14.53, 0.06, 0.08478, 10.52208, 53706.21714, 0),\n",
        "       ('CSSJ000020.4+103118', 1109001041232, 14.53, 0.06, 0.08482, 10.52207, 53706.22733, 0),\n",
        "       ('CSSJ000020.4+103118', 1109001041232, 14.51, 0.06, 0.08478, 10.52207, 53706.23782, 0),\n",
        "       ...,\n",
        "       ('CSSJ001432.7-154538', 3015002005081, 15.54, 0.07, 3.63676, -15.76067, 56479.69433, 0),\n",
        "       ('CSSJ001432.7-154538', 3015002005081, 15.66, 0.07, 3.63677, -15.76068, 56479.7086, 0),\n",
        "       ('CSSJ001432.7-154538', 3015002005081, 15.72, 0.07, 3.63673, -15.76062, 56479.72288, 0)], \n",
        "      dtype=[('InputID', 'S19'), ('ID', '<i8'), ('Mag', '<f8'), ('Magerr', '<f8'), ('RA', '<f8'), ('Decl', '<f8'), ('MJD', '<f8'), ('Blend', '<i8')])"
       ]
      }
     ],
     "prompt_number": 29
    },
    {
     "cell_type": "code",
     "collapsed": false,
     "input": [
      "# Get only data points where blend = 0\n",
      "# See http://nesssi.cacr.caltech.edu/DataRelease/FAQ2.html#blend\n",
      "data_catalog = data_fullcatalog[(data_fullcatalog['Blend'] == 0)]"
     ],
     "language": "python",
     "metadata": {},
     "outputs": [],
     "prompt_number": 30
    },
    {
     "cell_type": "code",
     "collapsed": false,
     "input": [
      "data_catalog"
     ],
     "language": "python",
     "metadata": {},
     "outputs": [
      {
       "metadata": {},
       "output_type": "pyout",
       "prompt_number": 31,
       "text": [
        "array([ ('CSSJ000020.4+103118', 1109001041232, 14.53, 0.06, 0.08478, 10.52208, 53706.21714, 0),\n",
        "       ('CSSJ000020.4+103118', 1109001041232, 14.53, 0.06, 0.08482, 10.52207, 53706.22733, 0),\n",
        "       ('CSSJ000020.4+103118', 1109001041232, 14.51, 0.06, 0.08478, 10.52207, 53706.23782, 0),\n",
        "       ...,\n",
        "       ('CSSJ001432.7-154538', 3015002005081, 15.54, 0.07, 3.63676, -15.76067, 56479.69433, 0),\n",
        "       ('CSSJ001432.7-154538', 3015002005081, 15.66, 0.07, 3.63677, -15.76068, 56479.7086, 0),\n",
        "       ('CSSJ001432.7-154538', 3015002005081, 15.72, 0.07, 3.63673, -15.76062, 56479.72288, 0)], \n",
        "      dtype=[('InputID', 'S19'), ('ID', '<i8'), ('Mag', '<f8'), ('Magerr', '<f8'), ('RA', '<f8'), ('Decl', '<f8'), ('MJD', '<f8'), ('Blend', '<i8')])"
       ]
      }
     ],
     "prompt_number": 31
    },
    {
     "cell_type": "code",
     "collapsed": false,
     "input": [
      "star1 = data_catalog[(data_catalog[\"InputID\"]=='CSSJ001432.7-154538')]"
     ],
     "language": "python",
     "metadata": {},
     "outputs": [],
     "prompt_number": 50
    },
    {
     "cell_type": "code",
     "collapsed": false,
     "input": [
      "star1.dtype"
     ],
     "language": "python",
     "metadata": {},
     "outputs": [
      {
       "metadata": {},
       "output_type": "pyout",
       "prompt_number": 51,
       "text": [
        "dtype([('InputID', 'S19'), ('ID', '<i8'), ('Mag', '<f8'), ('Magerr', '<f8'), ('RA', '<f8'), ('Decl', '<f8'), ('MJD', '<f8'), ('Blend', '<i8')])"
       ]
      }
     ],
     "prompt_number": 51
    },
    {
     "cell_type": "code",
     "collapsed": false,
     "input": [
      "lines = plt.plot(star1[\"MJD\"],star1[\"Mag\"], 'bo')\n",
      "plt.setp(lines, markersize=2.0)\n",
      "plt.show()"
     ],
     "language": "python",
     "metadata": {},
     "outputs": [
      {
       "metadata": {},
       "output_type": "display_data",
       "png": "[encoded data removed]",
       "text": [
        "<matplotlib.figure.Figure at 0x107effd50>"
       ]
      }
     ],
     "prompt_number": 72
    },
    {
     "cell_type": "code",
     "collapsed": false,
     "input": [],
     "language": "python",
     "metadata": {},
     "outputs": []
    }
   ],
   "metadata": {}
  }
 ]
}