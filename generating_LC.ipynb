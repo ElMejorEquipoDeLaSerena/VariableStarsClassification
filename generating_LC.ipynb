{
 "metadata": {
  "name": "",
  "signature": "sha256:3ac0cbacccfa34ed99df49c7a8c386f0a1ff61e0fd358acfe9b4aebfc7625ec6"
 },
 "nbformat": 3,
 "nbformat_minor": 0,
 "worksheets": [
  {
   "cells": [
    {
     "cell_type": "code",
     "collapsed": false,
     "input": [
      "import numpy as np\n",
      "import urllib\n",
      "import matplotlib.pyplot as plt\n",
      "\n",
      "%pylab inline"
     ],
     "language": "python",
     "metadata": {},
     "outputs": [
      {
       "output_type": "stream",
       "stream": "stdout",
       "text": [
        "Populating the interactive namespace from numpy and matplotlib\n"
       ]
      }
     ],
     "prompt_number": 71
    },
    {
     "cell_type": "code",
     "collapsed": false,
     "input": [
      "# Fetch the catalog list from the Catalina Servers\n",
      "cat_url = 'http://nesssi.cacr.caltech.edu/DataRelease/CatalinaVars.tbl'\n",
      "cat_data = urllib.urlopen(cat_url)\n",
      "catalog = np.genfromtxt(cat_data, dtype=None, names=True)\n",
      "\n",
      "# Get only the Variable Types we are interested in\n",
      "# See http://nesssi.cacr.caltech.edu/DataRelease/Varcat.html\n",
      "binary_catalog = catalog[(catalog['Var_Type'] <= 3)]"
     ],
     "language": "python",
     "metadata": {},
     "outputs": []
    },
    {
     "cell_type": "code",
     "collapsed": false,
     "input": [
      "# Fetch the time series information\n",
      "\n",
      "data='catalog_data_final/000000.csv'\n",
      "\n",
      "data_fullcatalog = np.genfromtxt(data, dtype=None, names=True, delimiter=\",\")\n"
     ],
     "language": "python",
     "metadata": {},
     "outputs": [],
     "prompt_number": 28
    },
    {
     "cell_type": "code",
     "collapsed": false,
     "input": [
      "data_fullcatalog"
     ],
     "language": "python",
     "metadata": {},
     "outputs": [
      {
       "metadata": {},
       "output_type": "pyout",
       "prompt_number": 29,
       "text": [
        "array([ ('CSSJ000020.4+103118', 1109001041232, 14.53, 0.06, 0.08478, 10.52208, 53706.21714, 0),\n",
        "       ('CSSJ000020.4+103118', 1109001041232, 14.53, 0.06, 0.08482, 10.52207, 53706.22733, 0),\n",
        "       ('CSSJ000020.4+103118', 1109001041232, 14.51, 0.06, 0.08478, 10.52207, 53706.23782, 0),\n",
        "       ...,\n",
        "       ('CSSJ001432.7-154538', 3015002005081, 15.54, 0.07, 3.63676, -15.76067, 56479.69433, 0),\n",
        "       ('CSSJ001432.7-154538', 3015002005081, 15.66, 0.07, 3.63677, -15.76068, 56479.7086, 0),\n",
        "       ('CSSJ001432.7-154538', 3015002005081, 15.72, 0.07, 3.63673, -15.76062, 56479.72288, 0)], \n",
        "      dtype=[('InputID', 'S19'), ('ID', '<i8'), ('Mag', '<f8'), ('Magerr', '<f8'), ('RA', '<f8'), ('Decl', '<f8'), ('MJD', '<f8'), ('Blend', '<i8')])"
       ]
      }
     ],
     "prompt_number": 29
    },
    {
     "cell_type": "code",
     "collapsed": false,
     "input": [
      "# Get only data points where blend = 0\n",
      "# See http://nesssi.cacr.caltech.edu/DataRelease/FAQ2.html#blend\n",
      "data_catalog = data_fullcatalog[(data_fullcatalog['Blend'] == 0)]"
     ],
     "language": "python",
     "metadata": {},
     "outputs": [],
     "prompt_number": 30
    },
    {
     "cell_type": "code",
     "collapsed": false,
     "input": [
      "data_catalog"
     ],
     "language": "python",
     "metadata": {},
     "outputs": [
      {
       "metadata": {},
       "output_type": "pyout",
       "prompt_number": 31,
       "text": [
        "array([ ('CSSJ000020.4+103118', 1109001041232, 14.53, 0.06, 0.08478, 10.52208, 53706.21714, 0),\n",
        "       ('CSSJ000020.4+103118', 1109001041232, 14.53, 0.06, 0.08482, 10.52207, 53706.22733, 0),\n",
        "       ('CSSJ000020.4+103118', 1109001041232, 14.51, 0.06, 0.08478, 10.52207, 53706.23782, 0),\n",
        "       ...,\n",
        "       ('CSSJ001432.7-154538', 3015002005081, 15.54, 0.07, 3.63676, -15.76067, 56479.69433, 0),\n",
        "       ('CSSJ001432.7-154538', 3015002005081, 15.66, 0.07, 3.63677, -15.76068, 56479.7086, 0),\n",
        "       ('CSSJ001432.7-154538', 3015002005081, 15.72, 0.07, 3.63673, -15.76062, 56479.72288, 0)], \n",
        "      dtype=[('InputID', 'S19'), ('ID', '<i8'), ('Mag', '<f8'), ('Magerr', '<f8'), ('RA', '<f8'), ('Decl', '<f8'), ('MJD', '<f8'), ('Blend', '<i8')])"
       ]
      }
     ],
     "prompt_number": 31
    },
    {
     "cell_type": "code",
     "collapsed": false,
     "input": [
      "star1 = data_catalog[(data_catalog[\"InputID\"]=='CSSJ000031.5-084652')]"
     ],
     "language": "python",
     "metadata": {},
     "outputs": [],
     "prompt_number": 81
    },
    {
     "cell_type": "code",
     "collapsed": false,
     "input": [
      "star1.dtype"
     ],
     "language": "python",
     "metadata": {},
     "outputs": [
      {
       "metadata": {},
       "output_type": "pyout",
       "prompt_number": 82,
       "text": [
        "dtype([('InputID', 'S19'), ('ID', '<i8'), ('Mag', '<f8'), ('Magerr', '<f8'), ('RA', '<f8'), ('Decl', '<f8'), ('MJD', '<f8'), ('Blend', '<i8')])"
       ]
      }
     ],
     "prompt_number": 82
    },
    {
     "cell_type": "code",
     "collapsed": false,
     "input": [
      "lines = plt.plot(star1[\"MJD\"],star1[\"Mag\"], 'bo')\n",
      "plt.setp(lines, markersize=2.0)\n",
      "plt.show()"
     ],
     "language": "python",
     "metadata": {},
     "outputs": [
      {
       "metadata": {},
       "output_type": "display_data",
       "png": "[encoded data removed]",
       "text": [
        "<matplotlib.figure.Figure at 0x107ee3410>"
       ]
      }
     ],
     "prompt_number": 83
    },
    {
     "cell_type": "code",
     "collapsed": false,
     "input": [
      "# Function to complete epoch folding\n",
      "\n",
      "def epoch(Mag, MJD, T):\n",
      "    # Mag: array containing Magnitudes for a given star\n",
      "    # MJD: array containing time for a given star\n",
      "    # T: float containing period for a given star\n",
      "    # smoothness: parameter to smooth function\n",
      "    \n",
      "    time=((MJD-MJD[0])/T)%MJD\n",
      "    \n",
      "    return time\n",
      "#    plt.plot(time,Mag)\n",
      "    \n",
      "#    Mag_sorted = Mag\n",
      "    \n",
      "#    return Mag_sorted"
     ],
     "language": "python",
     "metadata": {},
     "outputs": [],
     "prompt_number": 108
    },
    {
     "cell_type": "code",
     "collapsed": false,
     "input": [
      "Mag = star1[\"Mag\"]\n",
      "MJD = star1[\"MJD\"]\n",
      "T = 0.404185\n",
      "\n",
      "#time=((MJD)/T)%MJD\n",
      "time=(MJD%T)/T\n",
      "index=sorted(range(len(time)), key=lambda k: time[k])\n",
      "\n",
      "Mag_new=Mag[index]\n",
      "\n",
      "plt.plot(Mag_new,'b.', alpha=0.25)\n"
     ],
     "language": "python",
     "metadata": {},
     "outputs": [
      {
       "metadata": {},
       "output_type": "pyout",
       "prompt_number": 143,
       "text": [
        "[<matplotlib.lines.Line2D at 0x10dc6f290>]"
       ]
      },
      {
       "metadata": {},
       "output_type": "display_data",
       "png": "[encoded data removed]",
       "text": [
        "<matplotlib.figure.Figure at 0x109a990d0>"
       ]
      }
     ],
     "prompt_number": 143
    },
    {
     "cell_type": "code",
     "collapsed": false,
     "input": [
      "T = 0.404185\n",
      "folded_mag = epoch(star1[\"Mag\"], star1[\"MJD\"], T)\n",
      "folded_mag"
     ],
     "language": "python",
     "metadata": {},
     "outputs": [
      {
       "metadata": {},
       "output_type": "pyout",
       "prompt_number": 110,
       "text": [
        "array([  0.00000000e+00,   1.97929166e-02,   3.96105744e-02,\n",
        "         5.94282321e-02,   5.35932254e+04,   5.35932461e+04,\n",
        "         5.35932668e+04,   5.35932874e+04,   5.36869951e+04,\n",
        "         5.36870263e+04,   5.36870561e+04,   5.36870861e+04,\n",
        "         5.34927742e+04,   5.34927929e+04,   5.34928116e+04,\n",
        "         5.34928302e+04,   5.35134795e+04,   5.35135017e+04,\n",
        "         5.35135240e+04,   5.35202274e+04,   5.35202477e+04,\n",
        "         5.35202680e+04,   5.35202884e+04,   5.35583927e+04,\n",
        "         5.35584158e+04,   5.35584389e+04,   5.35584618e+04,\n",
        "         5.34162494e+04,   5.34162775e+04,   9.44977300e+02,\n",
        "         9.44996004e+02,   9.45014560e+02,   9.45033166e+02,\n",
        "         8.53631406e+02,   8.53645880e+02,   8.53660428e+02,\n",
        "         8.68550020e+02,   8.68566152e+02,   8.68582308e+02,\n",
        "         8.68598488e+02,   7.45064290e+02,   7.45077452e+02,\n",
        "         7.45090590e+02,   7.45103851e+02,   7.86877667e+02,\n",
        "         7.86903200e+02,   7.86928758e+02,   7.86954266e+02,\n",
        "         6.95751351e+02,   6.95767136e+02,   6.95781758e+02,\n",
        "         6.95803011e+02,   7.05349852e+02,   7.05368581e+02,\n",
        "         7.05387384e+02,   7.05406213e+02,   7.22931554e+02,\n",
        "         7.22947586e+02,   7.22963668e+02,   7.22979749e+02,\n",
        "         1.80343402e+03,   1.80345020e+03,   1.80346636e+03,\n",
        "         1.80348249e+03,   1.71960518e+03,   1.71962129e+03,\n",
        "         1.71963739e+03,   1.71965343e+03,   1.74185311e+03,\n",
        "         1.74187078e+03,   1.74188827e+03,   1.74190596e+03,\n",
        "         1.64806230e+03,   1.64807840e+03,   1.64809449e+03,\n",
        "         1.64811059e+03,   1.66517293e+03,   1.66518926e+03,\n",
        "         1.66520564e+03,   1.66522204e+03,   1.67526242e+03,\n",
        "         1.67528372e+03,   1.67530497e+03,   1.67532630e+03,\n",
        "         1.57651496e+03,   1.57653520e+03,   1.57655561e+03,\n",
        "         1.57657667e+03,   1.59870856e+03,   1.59872769e+03,\n",
        "         1.59874684e+03,   1.59876596e+03,   2.69916919e+03,\n",
        "         2.69918522e+03,   2.69920118e+03,   2.69921709e+03,\n",
        "         2.63498044e+03,   2.63499838e+03,   2.63501654e+03,\n",
        "         2.63503440e+03,   2.67199109e+03,   2.67200752e+03,\n",
        "         2.67202397e+03,   2.67204020e+03,   2.54876109e+03,\n",
        "         2.54878214e+03,   2.54880312e+03,   2.54882425e+03,\n",
        "         2.56576434e+03,   2.56578255e+03,   2.56580059e+03,\n",
        "         2.56581857e+03,   2.61031293e+03,   2.61033408e+03,\n",
        "         2.61035506e+03,   2.61037614e+03,   2.48443953e+03,\n",
        "         2.48445544e+03,   2.48447137e+03,   2.48448735e+03,\n",
        "         2.51916783e+03,   2.51918404e+03,   2.51920024e+03,\n",
        "         2.51921647e+03,   3.63678660e+03,   3.63679652e+03,\n",
        "         3.63680669e+03,   3.63681668e+03,   3.55045739e+03,\n",
        "         3.55047533e+03,   3.55049344e+03,   3.55051140e+03,\n",
        "         3.56759820e+03,   3.56761609e+03,   3.56763405e+03,\n",
        "         3.56765197e+03,   3.49595720e+03,   3.49597867e+03,\n",
        "         3.49599993e+03,   3.49602120e+03,   3.41961409e+03,\n",
        "         3.41963532e+03,   3.41965642e+03,   3.41967747e+03,\n",
        "         4.51533434e+03,   4.51536277e+03,   4.51537712e+03,\n",
        "         4.43133657e+03,   4.43137331e+03,   4.43139189e+03,\n",
        "         4.45099719e+03,   4.45103146e+03,   4.45104860e+03,\n",
        "         4.36702329e+03,   4.36705467e+03,   4.36707035e+03,\n",
        "         4.31774272e+03,   4.31777401e+03,   4.31779079e+03,\n",
        "         4.61654700e+03,   4.61656368e+03,   4.61658040e+03,\n",
        "         4.61659723e+03,   5.30973777e+03,   5.30975823e+03,\n",
        "         5.30977864e+03,   5.30979920e+03,   5.22833628e+03,\n",
        "         5.22835328e+03,   5.22837005e+03,   5.22838710e+03,\n",
        "         5.25048577e+03,   5.25049415e+03,   5.25050252e+03,\n",
        "         5.25051098e+03,   5.29002929e+03,   5.29005032e+03,\n",
        "         5.29007123e+03,   5.29009226e+03,   5.37131870e+03,\n",
        "         5.37133258e+03,   5.37134651e+03,   5.37136059e+03,\n",
        "         6.07211950e+03,   6.07213561e+03,   6.07215151e+03,\n",
        "         6.07216757e+03,   6.12136974e+03,   6.12139825e+03,\n",
        "         6.12142685e+03,   6.12145545e+03,   6.17079290e+03,\n",
        "         6.17080948e+03,   6.17082608e+03,   6.17084286e+03,\n",
        "         6.20287284e+03,   6.20288405e+03,   6.20289531e+03,\n",
        "         6.20290659e+03,   6.34102723e+03,   6.34104069e+03,\n",
        "         6.34105405e+03,   6.34106761e+03,   7.02436706e+03,\n",
        "         7.02438096e+03,   7.02439474e+03,   7.02440858e+03,\n",
        "         7.04658510e+03,   7.04660205e+03,   7.04661875e+03,\n",
        "         7.04663562e+03,   7.05921449e+03,   7.05922686e+03,\n",
        "         7.05923941e+03,   7.05925195e+03,   7.08387248e+03,\n",
        "         7.08388800e+03,   7.08390334e+03,   7.08391858e+03,\n",
        "         7.12310796e+03,   7.12312681e+03,   7.12314564e+03,\n",
        "         7.12316447e+03,   7.13795030e+03,   7.13797553e+03,\n",
        "         7.13800077e+03,   7.13802595e+03,   5.32682605e+04,\n",
        "         5.32682852e+04,   5.32683096e+04,   5.33203755e+04,\n",
        "         5.33204061e+04,   5.33204349e+04,   5.33204642e+04,\n",
        "         6.26737756e+01,   6.26842164e+01,   6.26947066e+01,\n",
        "         6.27052216e+01,   5.85064562e+02,   5.85094944e+02,\n",
        "         5.85125302e+02,   5.85155684e+02,   4.19690365e+02,\n",
        "         4.19706595e+02,   4.19722874e+02,   4.19739055e+02,\n",
        "         1.32525057e+03,   1.32527090e+03,   1.32529122e+03,\n",
        "         1.32531187e+03,   2.40854032e+03,   2.40857006e+03,\n",
        "         2.40859980e+03,   2.40869518e+03,   2.76930663e+03,\n",
        "         2.76931724e+03,   2.76932786e+03,   2.76933862e+03,\n",
        "         2.32978572e+03,   2.32980118e+03,   2.32981652e+03,\n",
        "         2.32983292e+03,   3.30186853e+03,   3.30189267e+03,\n",
        "         3.30191694e+03,   3.30194112e+03,   5.03129136e+03,\n",
        "         5.10041350e+03,   5.10044581e+03,   5.10047820e+03,\n",
        "         5.10051071e+03,   6.83989247e+03,   6.83991170e+03,\n",
        "         6.83993095e+03,   6.83995027e+03])"
       ]
      }
     ],
     "prompt_number": 110
    },
    {
     "cell_type": "code",
     "collapsed": false,
     "input": [
      "folded_line = plt.plot(folded_mag)"
     ],
     "language": "python",
     "metadata": {},
     "outputs": [
      {
       "metadata": {},
       "output_type": "display_data",
       "png": "[encoded data removed]",
       "text": [
        "<matplotlib.figure.Figure at 0x1046c2150>"
       ]
      }
     ],
     "prompt_number": 95
    },
    {
     "cell_type": "code",
     "collapsed": false,
     "input": [],
     "language": "python",
     "metadata": {},
     "outputs": []
    }
   ],
   "metadata": {}
  }
 ]
}