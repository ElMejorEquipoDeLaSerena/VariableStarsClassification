{
 "metadata": {
  "name": "",
  "signature": "sha256:0ebf4faa2e540201c522b0822e751ee514648f149607c18dec4ba3c8b6f2fe40"
 },
 "nbformat": 3,
 "nbformat_minor": 0,
 "worksheets": [
  {
   "cells": [
    {
     "cell_type": "code",
     "collapsed": false,
     "input": [
      "import numpy as np\n",
      "import urllib\n",
      "from astropy import units as u\n",
      "from astropy.coordinates import SkyCoord"
     ],
     "language": "python",
     "metadata": {},
     "outputs": [],
     "prompt_number": 1
    },
    {
     "cell_type": "code",
     "collapsed": false,
     "input": [
      "# Fetch the catalog list from the Catalina Servers\n",
      "cat_url = 'http://nesssi.cacr.caltech.edu/DataRelease/CatalinaVars.tbl'\n",
      "cat_data = urllib.urlopen(cat_url)\n",
      "catalog = np.genfromtxt(cat_data, dtype=None, names=True)"
     ],
     "language": "python",
     "metadata": {},
     "outputs": [],
     "prompt_number": 2
    },
    {
     "cell_type": "code",
     "collapsed": false,
     "input": [
      "catalog.dtype"
     ],
     "language": "python",
     "metadata": {},
     "outputs": [
      {
       "metadata": {},
       "output_type": "pyout",
       "prompt_number": 3,
       "text": [
        "dtype([('Catalina_Surveys_ID', 'S20'), ('Numerical_ID', '<i8'), ('RA_J2000', 'S11'), ('Dec', 'S11'), ('V_mag', '<f8'), ('Period_days', 'S9'), ('Amplitude', '<f8'), ('Number_Obs', '<i8'), ('Var_Type', '<i8')])"
       ]
      }
     ],
     "prompt_number": 3
    },
    {
     "cell_type": "code",
     "collapsed": false,
     "input": [
      "# Get only the Variable Types we are interested in\n",
      "# See http://nesssi.cacr.caltech.edu/DataRelease/Varcat.html\n",
      "binary_catalog = catalog[(catalog['Var_Type'] <= 3)]"
     ],
     "language": "python",
     "metadata": {},
     "outputs": [],
     "prompt_number": 4
    },
    {
     "cell_type": "code",
     "collapsed": false,
     "input": [
      "# The Catalina Server bulk downloader only allows \n",
      "for x in xrange(0, len(binary_catalog)):\n",
      "    if x % 100 == 0:\n",
      "        try:\n",
      "            f.close()\n",
      "        except:\n",
      "            pass\n",
      "        filename = 'data/{:06d}.txt'.format(x)\n",
      "        f = open(filename, 'w')\n",
      "    \n",
      "    data = binary_catalog[x]\n",
      "    \n",
      "    name = data['Catalina_Surveys_ID']\n",
      "    ra = data['RA_J2000']\n",
      "    dec = data['Dec']\n",
      "    \n",
      "    ra = \"{}h{}m{}s\".format(*ra.split(':'))\n",
      "    dec = \"{}d{}m{}s\".format(*dec.split(':'))    \n",
      "    \n",
      "    c = SkyCoord(ra, dec, 'icrs')\n",
      "    \n",
      "    f.write(\"{}\\t{:3.3f}\\t{:3.3f}\\n\".format(name, c.ra.deg, c.dec.deg))"
     ],
     "language": "python",
     "metadata": {},
     "outputs": [],
     "prompt_number": 12
    }
   ],
   "metadata": {}
  }
 ]
}